{
 "cells": [
  {
   "cell_type": "code",
   "execution_count": 1,
   "metadata": {},
   "outputs": [],
   "source": [
    "import pandas as pd"
   ]
  },
  {
   "cell_type": "code",
   "execution_count": 2,
   "metadata": {},
   "outputs": [],
   "source": [
    "RawData = pd.read_csv(\"failures.csv\")"
   ]
  },
  {
   "cell_type": "code",
   "execution_count": 3,
   "metadata": {},
   "outputs": [
    {
     "data": {
      "text/html": [
       "<div>\n",
       "<style scoped>\n",
       "    .dataframe tbody tr th:only-of-type {\n",
       "        vertical-align: middle;\n",
       "    }\n",
       "\n",
       "    .dataframe tbody tr th {\n",
       "        vertical-align: top;\n",
       "    }\n",
       "\n",
       "    .dataframe thead th {\n",
       "        text-align: right;\n",
       "    }\n",
       "</style>\n",
       "<table border=\"1\" class=\"dataframe\">\n",
       "  <thead>\n",
       "    <tr style=\"text-align: right;\">\n",
       "      <th></th>\n",
       "      <th>date</th>\n",
       "      <th>device</th>\n",
       "      <th>failure</th>\n",
       "      <th>attribute1</th>\n",
       "      <th>attribute2</th>\n",
       "      <th>attribute3</th>\n",
       "      <th>attribute4</th>\n",
       "      <th>attribute5</th>\n",
       "      <th>attribute6</th>\n",
       "      <th>attribute7</th>\n",
       "      <th>attribute8</th>\n",
       "      <th>attribute9</th>\n",
       "    </tr>\n",
       "  </thead>\n",
       "  <tbody>\n",
       "    <tr>\n",
       "      <td>0</td>\n",
       "      <td>2015-01-01</td>\n",
       "      <td>S1F01085</td>\n",
       "      <td>0</td>\n",
       "      <td>215630672</td>\n",
       "      <td>56</td>\n",
       "      <td>0</td>\n",
       "      <td>52</td>\n",
       "      <td>6</td>\n",
       "      <td>407438</td>\n",
       "      <td>0</td>\n",
       "      <td>0</td>\n",
       "      <td>7</td>\n",
       "    </tr>\n",
       "    <tr>\n",
       "      <td>1</td>\n",
       "      <td>2015-01-01</td>\n",
       "      <td>S1F0166B</td>\n",
       "      <td>0</td>\n",
       "      <td>61370680</td>\n",
       "      <td>0</td>\n",
       "      <td>3</td>\n",
       "      <td>0</td>\n",
       "      <td>6</td>\n",
       "      <td>403174</td>\n",
       "      <td>0</td>\n",
       "      <td>0</td>\n",
       "      <td>0</td>\n",
       "    </tr>\n",
       "    <tr>\n",
       "      <td>2</td>\n",
       "      <td>2015-01-01</td>\n",
       "      <td>S1F01E6Y</td>\n",
       "      <td>0</td>\n",
       "      <td>173295968</td>\n",
       "      <td>0</td>\n",
       "      <td>0</td>\n",
       "      <td>0</td>\n",
       "      <td>12</td>\n",
       "      <td>237394</td>\n",
       "      <td>0</td>\n",
       "      <td>0</td>\n",
       "      <td>0</td>\n",
       "    </tr>\n",
       "    <tr>\n",
       "      <td>3</td>\n",
       "      <td>2015-01-01</td>\n",
       "      <td>S1F01JE0</td>\n",
       "      <td>0</td>\n",
       "      <td>79694024</td>\n",
       "      <td>0</td>\n",
       "      <td>0</td>\n",
       "      <td>0</td>\n",
       "      <td>6</td>\n",
       "      <td>410186</td>\n",
       "      <td>0</td>\n",
       "      <td>0</td>\n",
       "      <td>0</td>\n",
       "    </tr>\n",
       "    <tr>\n",
       "      <td>4</td>\n",
       "      <td>2015-01-01</td>\n",
       "      <td>S1F01R2B</td>\n",
       "      <td>0</td>\n",
       "      <td>135970480</td>\n",
       "      <td>0</td>\n",
       "      <td>0</td>\n",
       "      <td>0</td>\n",
       "      <td>15</td>\n",
       "      <td>313173</td>\n",
       "      <td>0</td>\n",
       "      <td>0</td>\n",
       "      <td>3</td>\n",
       "    </tr>\n",
       "    <tr>\n",
       "      <td>...</td>\n",
       "      <td>...</td>\n",
       "      <td>...</td>\n",
       "      <td>...</td>\n",
       "      <td>...</td>\n",
       "      <td>...</td>\n",
       "      <td>...</td>\n",
       "      <td>...</td>\n",
       "      <td>...</td>\n",
       "      <td>...</td>\n",
       "      <td>...</td>\n",
       "      <td>...</td>\n",
       "      <td>...</td>\n",
       "    </tr>\n",
       "    <tr>\n",
       "      <td>124489</td>\n",
       "      <td>2015-11-02</td>\n",
       "      <td>Z1F0MA1S</td>\n",
       "      <td>0</td>\n",
       "      <td>18310224</td>\n",
       "      <td>0</td>\n",
       "      <td>0</td>\n",
       "      <td>0</td>\n",
       "      <td>10</td>\n",
       "      <td>353705</td>\n",
       "      <td>8</td>\n",
       "      <td>8</td>\n",
       "      <td>0</td>\n",
       "    </tr>\n",
       "    <tr>\n",
       "      <td>124490</td>\n",
       "      <td>2015-11-02</td>\n",
       "      <td>Z1F0Q8RT</td>\n",
       "      <td>0</td>\n",
       "      <td>172556680</td>\n",
       "      <td>96</td>\n",
       "      <td>107</td>\n",
       "      <td>4</td>\n",
       "      <td>11</td>\n",
       "      <td>332792</td>\n",
       "      <td>0</td>\n",
       "      <td>0</td>\n",
       "      <td>13</td>\n",
       "    </tr>\n",
       "    <tr>\n",
       "      <td>124491</td>\n",
       "      <td>2015-11-02</td>\n",
       "      <td>Z1F0QK05</td>\n",
       "      <td>0</td>\n",
       "      <td>19029120</td>\n",
       "      <td>4832</td>\n",
       "      <td>0</td>\n",
       "      <td>0</td>\n",
       "      <td>11</td>\n",
       "      <td>350410</td>\n",
       "      <td>0</td>\n",
       "      <td>0</td>\n",
       "      <td>0</td>\n",
       "    </tr>\n",
       "    <tr>\n",
       "      <td>124492</td>\n",
       "      <td>2015-11-02</td>\n",
       "      <td>Z1F0QL3N</td>\n",
       "      <td>0</td>\n",
       "      <td>226953408</td>\n",
       "      <td>0</td>\n",
       "      <td>0</td>\n",
       "      <td>0</td>\n",
       "      <td>12</td>\n",
       "      <td>358980</td>\n",
       "      <td>0</td>\n",
       "      <td>0</td>\n",
       "      <td>0</td>\n",
       "    </tr>\n",
       "    <tr>\n",
       "      <td>124493</td>\n",
       "      <td>2015-11-02</td>\n",
       "      <td>Z1F0QLC1</td>\n",
       "      <td>0</td>\n",
       "      <td>17572840</td>\n",
       "      <td>0</td>\n",
       "      <td>0</td>\n",
       "      <td>0</td>\n",
       "      <td>10</td>\n",
       "      <td>351431</td>\n",
       "      <td>0</td>\n",
       "      <td>0</td>\n",
       "      <td>0</td>\n",
       "    </tr>\n",
       "  </tbody>\n",
       "</table>\n",
       "<p>124494 rows × 12 columns</p>\n",
       "</div>"
      ],
      "text/plain": [
       "              date    device  failure  attribute1  attribute2  attribute3  \\\n",
       "0       2015-01-01  S1F01085        0   215630672          56           0   \n",
       "1       2015-01-01  S1F0166B        0    61370680           0           3   \n",
       "2       2015-01-01  S1F01E6Y        0   173295968           0           0   \n",
       "3       2015-01-01  S1F01JE0        0    79694024           0           0   \n",
       "4       2015-01-01  S1F01R2B        0   135970480           0           0   \n",
       "...            ...       ...      ...         ...         ...         ...   \n",
       "124489  2015-11-02  Z1F0MA1S        0    18310224           0           0   \n",
       "124490  2015-11-02  Z1F0Q8RT        0   172556680          96         107   \n",
       "124491  2015-11-02  Z1F0QK05        0    19029120        4832           0   \n",
       "124492  2015-11-02  Z1F0QL3N        0   226953408           0           0   \n",
       "124493  2015-11-02  Z1F0QLC1        0    17572840           0           0   \n",
       "\n",
       "        attribute4  attribute5  attribute6  attribute7  attribute8  attribute9  \n",
       "0               52           6      407438           0           0           7  \n",
       "1                0           6      403174           0           0           0  \n",
       "2                0          12      237394           0           0           0  \n",
       "3                0           6      410186           0           0           0  \n",
       "4                0          15      313173           0           0           3  \n",
       "...            ...         ...         ...         ...         ...         ...  \n",
       "124489           0          10      353705           8           8           0  \n",
       "124490           4          11      332792           0           0          13  \n",
       "124491           0          11      350410           0           0           0  \n",
       "124492           0          12      358980           0           0           0  \n",
       "124493           0          10      351431           0           0           0  \n",
       "\n",
       "[124494 rows x 12 columns]"
      ]
     },
     "execution_count": 3,
     "metadata": {},
     "output_type": "execute_result"
    }
   ],
   "source": [
    "RawData"
   ]
  },
  {
   "cell_type": "code",
   "execution_count": 4,
   "metadata": {},
   "outputs": [
    {
     "data": {
      "text/plain": [
       "date          0\n",
       "device        0\n",
       "failure       0\n",
       "attribute1    0\n",
       "attribute2    0\n",
       "attribute3    0\n",
       "attribute4    0\n",
       "attribute5    0\n",
       "attribute6    0\n",
       "attribute7    0\n",
       "attribute8    0\n",
       "attribute9    0\n",
       "dtype: int64"
      ]
     },
     "execution_count": 4,
     "metadata": {},
     "output_type": "execute_result"
    }
   ],
   "source": [
    "RawData.isnull().sum()"
   ]
  },
  {
   "cell_type": "markdown",
   "metadata": {},
   "source": [
    "## Data conversion"
   ]
  },
  {
   "cell_type": "markdown",
   "metadata": {},
   "source": [
    "### Convert date column to separate year, month, day columns"
   ]
  },
  {
   "cell_type": "code",
   "execution_count": 5,
   "metadata": {},
   "outputs": [],
   "source": [
    "DateData = pd.DataFrame()\n",
    "DateData[[\"Year\", \"Month\", \"Day\"]] = RawData[\"date\"].str.split(\"-\", expand = True)\n",
    "DateData[\"Year\"] = DateData[\"Year\"].astype(\"int\")\n",
    "DateData[\"Month\"] = DateData[\"Month\"].astype(\"int8\")\n",
    "DateData[\"Day\"] = DateData[\"Day\"].astype(\"int8\")\n",
    "RawData.drop(\"date\", axis = 1, inplace = True)"
   ]
  },
  {
   "cell_type": "code",
   "execution_count": 6,
   "metadata": {},
   "outputs": [
    {
     "data": {
      "text/html": [
       "<div>\n",
       "<style scoped>\n",
       "    .dataframe tbody tr th:only-of-type {\n",
       "        vertical-align: middle;\n",
       "    }\n",
       "\n",
       "    .dataframe tbody tr th {\n",
       "        vertical-align: top;\n",
       "    }\n",
       "\n",
       "    .dataframe thead th {\n",
       "        text-align: right;\n",
       "    }\n",
       "</style>\n",
       "<table border=\"1\" class=\"dataframe\">\n",
       "  <thead>\n",
       "    <tr style=\"text-align: right;\">\n",
       "      <th></th>\n",
       "      <th>Year</th>\n",
       "      <th>Month</th>\n",
       "      <th>Day</th>\n",
       "    </tr>\n",
       "  </thead>\n",
       "  <tbody>\n",
       "    <tr>\n",
       "      <td>0</td>\n",
       "      <td>2015</td>\n",
       "      <td>1</td>\n",
       "      <td>1</td>\n",
       "    </tr>\n",
       "    <tr>\n",
       "      <td>1</td>\n",
       "      <td>2015</td>\n",
       "      <td>1</td>\n",
       "      <td>1</td>\n",
       "    </tr>\n",
       "    <tr>\n",
       "      <td>2</td>\n",
       "      <td>2015</td>\n",
       "      <td>1</td>\n",
       "      <td>1</td>\n",
       "    </tr>\n",
       "    <tr>\n",
       "      <td>3</td>\n",
       "      <td>2015</td>\n",
       "      <td>1</td>\n",
       "      <td>1</td>\n",
       "    </tr>\n",
       "    <tr>\n",
       "      <td>4</td>\n",
       "      <td>2015</td>\n",
       "      <td>1</td>\n",
       "      <td>1</td>\n",
       "    </tr>\n",
       "    <tr>\n",
       "      <td>...</td>\n",
       "      <td>...</td>\n",
       "      <td>...</td>\n",
       "      <td>...</td>\n",
       "    </tr>\n",
       "    <tr>\n",
       "      <td>124489</td>\n",
       "      <td>2015</td>\n",
       "      <td>11</td>\n",
       "      <td>2</td>\n",
       "    </tr>\n",
       "    <tr>\n",
       "      <td>124490</td>\n",
       "      <td>2015</td>\n",
       "      <td>11</td>\n",
       "      <td>2</td>\n",
       "    </tr>\n",
       "    <tr>\n",
       "      <td>124491</td>\n",
       "      <td>2015</td>\n",
       "      <td>11</td>\n",
       "      <td>2</td>\n",
       "    </tr>\n",
       "    <tr>\n",
       "      <td>124492</td>\n",
       "      <td>2015</td>\n",
       "      <td>11</td>\n",
       "      <td>2</td>\n",
       "    </tr>\n",
       "    <tr>\n",
       "      <td>124493</td>\n",
       "      <td>2015</td>\n",
       "      <td>11</td>\n",
       "      <td>2</td>\n",
       "    </tr>\n",
       "  </tbody>\n",
       "</table>\n",
       "<p>124494 rows × 3 columns</p>\n",
       "</div>"
      ],
      "text/plain": [
       "        Year  Month  Day\n",
       "0       2015      1    1\n",
       "1       2015      1    1\n",
       "2       2015      1    1\n",
       "3       2015      1    1\n",
       "4       2015      1    1\n",
       "...      ...    ...  ...\n",
       "124489  2015     11    2\n",
       "124490  2015     11    2\n",
       "124491  2015     11    2\n",
       "124492  2015     11    2\n",
       "124493  2015     11    2\n",
       "\n",
       "[124494 rows x 3 columns]"
      ]
     },
     "execution_count": 6,
     "metadata": {},
     "output_type": "execute_result"
    }
   ],
   "source": [
    "DateData"
   ]
  },
  {
   "cell_type": "markdown",
   "metadata": {},
   "source": [
    "### Break device serial/id/?? into separate fields"
   ]
  },
  {
   "cell_type": "code",
   "execution_count": 7,
   "metadata": {},
   "outputs": [
    {
     "data": {
      "text/plain": [
       "W1F0G9T7    304\n",
       "W1F0FZPA    304\n",
       "Z1F0GB8A    304\n",
       "Z1F0QL3N    304\n",
       "Z1F0KJDS    304\n",
       "           ... \n",
       "S1F0B5QJ      5\n",
       "S1F0CT4F      5\n",
       "S1F08S38      5\n",
       "S1F04KSC      4\n",
       "W1F0WJFT      3\n",
       "Name: device, Length: 1168, dtype: int64"
      ]
     },
     "execution_count": 7,
     "metadata": {},
     "output_type": "execute_result"
    }
   ],
   "source": [
    "RawData[\"device\"].value_counts()"
   ]
  },
  {
   "cell_type": "code",
   "execution_count": 8,
   "metadata": {},
   "outputs": [
    {
     "data": {
      "text/plain": [
       "8    124494\n",
       "Name: device, dtype: int64"
      ]
     },
     "execution_count": 8,
     "metadata": {},
     "output_type": "execute_result"
    }
   ],
   "source": [
    "# Every value in \"device\" is exactly 8 characters long\n",
    "RawData[\"device\"].apply(len).value_counts()"
   ]
  },
  {
   "cell_type": "code",
   "execution_count": 9,
   "metadata": {
    "scrolled": true
   },
   "outputs": [
    {
     "name": "stdout",
     "output_type": "stream",
     "text": [
      "Index:  0\n",
      "S    54858\n",
      "W    43268\n",
      "Z    26368\n",
      "Name: device, dtype: int64\n",
      "\n",
      "Index:  1\n",
      "1    124494\n",
      "Name: device, dtype: int64\n",
      "\n",
      "Index:  2\n",
      "F    124494\n",
      "Name: device, dtype: int64\n",
      "\n",
      "Index:  3\n",
      "0    75332\n",
      "1    48911\n",
      "2      251\n",
      "Name: device, dtype: int64\n",
      "\n",
      "Index:  4\n",
      "L    12700\n",
      "3    10980\n",
      "S     7328\n",
      "C     6816\n",
      "T     6447\n",
      "1     6294\n",
      "0     5945\n",
      "R     5772\n",
      "G     5164\n",
      "B     4432\n",
      "Q     4053\n",
      "M     3706\n",
      "F     3616\n",
      "2     3441\n",
      "K     3314\n",
      "D     2906\n",
      "4     2895\n",
      "Z     2651\n",
      "J     2612\n",
      "P     2460\n",
      "V     2413\n",
      "X     2223\n",
      "A     2077\n",
      "W     1896\n",
      "9     1892\n",
      "H     1727\n",
      "7     1519\n",
      "N     1500\n",
      "Y     1282\n",
      "8     1236\n",
      "E     1226\n",
      "6     1104\n",
      "5      867\n",
      "Name: device, dtype: int64\n",
      "\n",
      "Index:  5\n",
      "6    7818\n",
      "K    7524\n",
      "5    5865\n",
      "S    5605\n",
      "L    5034\n",
      "3    4517\n",
      "4    4428\n",
      "Y    4404\n",
      "J    4264\n",
      "Q    4177\n",
      "B    4005\n",
      "G    3984\n",
      "R    3802\n",
      "P    3769\n",
      "C    3613\n",
      "N    3591\n",
      "M    3579\n",
      "Z    3539\n",
      "1    3456\n",
      "A    3419\n",
      "H    3349\n",
      "2    3208\n",
      "0    3166\n",
      "V    3019\n",
      "F    2900\n",
      "7    2899\n",
      "9    2897\n",
      "X    2806\n",
      "D    2532\n",
      "E    2354\n",
      "8    1931\n",
      "T    1607\n",
      "W    1433\n",
      "Name: device, dtype: int64\n",
      "\n",
      "Index:  6\n",
      "B    5566\n",
      "J    5313\n",
      "8    5269\n",
      "L    5056\n",
      "P    5028\n",
      "3    4755\n",
      "W    4653\n",
      "0    4319\n",
      "5    4289\n",
      "K    4262\n",
      "D    4232\n",
      "E    4221\n",
      "G    4090\n",
      "F    4080\n",
      "M    4010\n",
      "T    3925\n",
      "H    3901\n",
      "6    3830\n",
      "1    3824\n",
      "R    3688\n",
      "7    3396\n",
      "9    3320\n",
      "Z    3314\n",
      "S    3165\n",
      "Q    3005\n",
      "C    2890\n",
      "2    2887\n",
      "4    2683\n",
      "A    2639\n",
      "N    2570\n",
      "V    2462\n",
      "X    2305\n",
      "Y    1547\n",
      "Name: device, dtype: int64\n",
      "\n",
      "Index:  7\n",
      "J    5322\n",
      "S    5297\n",
      "P    5042\n",
      "1    5018\n",
      "M    4464\n",
      "R    4454\n",
      "7    4412\n",
      "5    4283\n",
      "D    4280\n",
      "2    4226\n",
      "G    4033\n",
      "Z    4009\n",
      "9    3933\n",
      "Y    3880\n",
      "B    3803\n",
      "3    3729\n",
      "W    3723\n",
      "H    3679\n",
      "4    3672\n",
      "K    3657\n",
      "E    3553\n",
      "C    3552\n",
      "8    3505\n",
      "T    3476\n",
      "Q    3401\n",
      "F    3371\n",
      "A    3268\n",
      "X    3163\n",
      "6    3128\n",
      "0    2451\n",
      "N    2335\n",
      "L    2268\n",
      "V    2107\n",
      "Name: device, dtype: int64\n",
      "\n"
     ]
    }
   ],
   "source": [
    "# Characterizing values used in each column\n",
    "for index in range(len(RawData[\"device\"][0])):\n",
    "    print(\"Index: \", index)\n",
    "    print(RawData[\"device\"].str.get(index).value_counts())\n",
    "    print(\"\")"
   ]
  },
  {
   "cell_type": "code",
   "execution_count": 10,
   "metadata": {
    "scrolled": true
   },
   "outputs": [
    {
     "name": "stdout",
     "output_type": "stream",
     "text": [
      "Index:  0\n",
      "['S' 'W' 'Z']\n",
      "\n",
      "Index:  1\n",
      "['1']\n",
      "\n",
      "Index:  2\n",
      "['F']\n",
      "\n",
      "Index:  3\n",
      "['0' '1' '2']\n",
      "\n",
      "Index:  4\n",
      "['1' '2' '3' '4' '5' '6' '8' '9' 'A' 'B' 'C' 'D' 'E' 'F' 'G' 'H' 'J' 'K'\n",
      " 'L' 'M' 'P' 'Q' 'R' 'S' 'T' 'V' 'W' 'X' 'Y' '0' '7' 'N' 'Z']\n",
      "\n",
      "Index:  5\n",
      "['0' '6' 'E' 'J' 'R' 'T' 'X' '3' 'A' 'D' 'L' 'M' 'P' 'V' 'W' '1' '2' '5'\n",
      " '7' '9' 'Y' '4' 'K' 'B' 'N' 'F' 'Z' 'S' 'Q' 'G' 'C' 'H' '8']\n",
      "\n",
      "Index:  6\n",
      "['8' '6' 'E' '2' 'D' 'H' '0' 'Z' 'V' '3' 'G' '7' 'A' 'F' 'S' 'R' '1' '5'\n",
      " 'X' '9' 'P' 'Q' 'K' 'B' '4' 'W' 'Y' 'T' 'M' 'J' 'L' 'C' 'N']\n",
      "\n",
      "Index:  7\n",
      "['5' 'B' 'Y' '0' 'J' '2' 'N' '8' 'A' '6' 'X' 'T' 'R' 'P' 'V' 'E' '3' 'M'\n",
      " 'C' 'Q' '4' '1' 'Z' 'K' 'W' 'S' '9' 'F' 'L' 'H' 'D' 'G' '7']\n",
      "\n"
     ]
    }
   ],
   "source": [
    "for index in range(len(RawData[\"device\"][0])):\n",
    "    print(\"Index: \", index)\n",
    "    print(RawData[\"device\"].str.get(index).unique())\n",
    "    print(\"\")"
   ]
  },
  {
   "cell_type": "code",
   "execution_count": 11,
   "metadata": {},
   "outputs": [
    {
     "data": {
      "text/plain": [
       "True"
      ]
     },
     "execution_count": 11,
     "metadata": {},
     "output_type": "execute_result"
    }
   ],
   "source": [
    "RawData[\"device\"].str.match(r\"([A-Z])1F([0-2])([A-Z0-9])([A-Z0-9])([A-Z0-9])([A-Z0-9])\").sum() == RawData[\"device\"].count()"
   ]
  },
  {
   "cell_type": "code",
   "execution_count": 12,
   "metadata": {
    "scrolled": true
   },
   "outputs": [],
   "source": [
    "# index 5-7 of \"device\" contain digits 0-9 and letters A-Z\n",
    "#RawData[\"device\"].str.get(5).value_counts().reset_index().sort_values(by=\"index\")"
   ]
  },
  {
   "cell_type": "code",
   "execution_count": 13,
   "metadata": {
    "scrolled": true
   },
   "outputs": [],
   "source": [
    "# Extract each column of \"device\"\n",
    "DeviceData = pd.DataFrame()\n",
    "\n",
    "for index in range(len(RawData[\"device\"][0])):\n",
    "    DeviceData[\"Device\" + str(index)] = (RawData[\"device\"].str.get(index)).astype(\"category\")\n",
    "DeviceData[\"Device3\"] = DeviceData[\"Device3\"].astype(\"int8\")"
   ]
  },
  {
   "cell_type": "code",
   "execution_count": 14,
   "metadata": {},
   "outputs": [],
   "source": [
    "# Extract pairs, triplets, etc. of each permutable column of \"device\"\n",
    "\n",
    "for count in range(2, 6):\n",
    "    for index in range(3, 9-count):\n",
    "        columnLabel = \"Device\"\n",
    "        for labelRange in range(0, count):\n",
    "            columnLabel = columnLabel + str(index + labelRange)\n",
    "        DeviceData[columnLabel] = RawData[\"device\"].str[index:index + count] # One extra because substring indexing\n",
    "        DeviceData[columnLabel] = DeviceData[columnLabel].astype(\"category\")"
   ]
  },
  {
   "cell_type": "code",
   "execution_count": 15,
   "metadata": {},
   "outputs": [
    {
     "name": "stdout",
     "output_type": "stream",
     "text": [
      "<class 'pandas.core.frame.DataFrame'>\n",
      "RangeIndex: 124494 entries, 0 to 124493\n",
      "Data columns (total 18 columns):\n",
      "Device0        124494 non-null category\n",
      "Device1        124494 non-null category\n",
      "Device2        124494 non-null category\n",
      "Device3        124494 non-null int8\n",
      "Device4        124494 non-null category\n",
      "Device5        124494 non-null category\n",
      "Device6        124494 non-null category\n",
      "Device7        124494 non-null category\n",
      "Device34       124494 non-null category\n",
      "Device45       124494 non-null category\n",
      "Device56       124494 non-null category\n",
      "Device67       124494 non-null category\n",
      "Device345      124494 non-null category\n",
      "Device456      124494 non-null category\n",
      "Device567      124494 non-null category\n",
      "Device3456     124494 non-null category\n",
      "Device4567     124494 non-null category\n",
      "Device34567    124494 non-null category\n",
      "dtypes: category(17), int8(1)\n",
      "memory usage: 3.6 MB\n"
     ]
    }
   ],
   "source": [
    "DeviceData.info()"
   ]
  },
  {
   "cell_type": "code",
   "execution_count": 16,
   "metadata": {},
   "outputs": [],
   "source": [
    "RawData.drop(\"device\", axis = 1, inplace = True)"
   ]
  },
  {
   "cell_type": "code",
   "execution_count": 17,
   "metadata": {},
   "outputs": [
    {
     "name": "stdout",
     "output_type": "stream",
     "text": [
      "<class 'pandas.core.frame.DataFrame'>\n",
      "RangeIndex: 124494 entries, 0 to 124493\n",
      "Data columns (total 10 columns):\n",
      "failure       124494 non-null int64\n",
      "attribute1    124494 non-null int64\n",
      "attribute2    124494 non-null int64\n",
      "attribute3    124494 non-null int64\n",
      "attribute4    124494 non-null int64\n",
      "attribute5    124494 non-null int64\n",
      "attribute6    124494 non-null int64\n",
      "attribute7    124494 non-null int64\n",
      "attribute8    124494 non-null int64\n",
      "attribute9    124494 non-null int64\n",
      "dtypes: int64(10)\n",
      "memory usage: 9.5 MB\n"
     ]
    }
   ],
   "source": [
    "RawData.info()"
   ]
  },
  {
   "cell_type": "markdown",
   "metadata": {},
   "source": [
    "## Drop columns that have the same data for every row\n",
    "Note:  None of the columns have null values"
   ]
  },
  {
   "cell_type": "code",
   "execution_count": 18,
   "metadata": {},
   "outputs": [
    {
     "name": "stdout",
     "output_type": "stream",
     "text": [
      "<class 'pandas.core.frame.DataFrame'>\n",
      "RangeIndex: 124494 entries, 0 to 124493\n",
      "Data columns (total 31 columns):\n",
      "failure        124494 non-null int64\n",
      "attribute1     124494 non-null int64\n",
      "attribute2     124494 non-null int64\n",
      "attribute3     124494 non-null int64\n",
      "attribute4     124494 non-null int64\n",
      "attribute5     124494 non-null int64\n",
      "attribute6     124494 non-null int64\n",
      "attribute7     124494 non-null int64\n",
      "attribute8     124494 non-null int64\n",
      "attribute9     124494 non-null int64\n",
      "Year           124494 non-null int32\n",
      "Month          124494 non-null int8\n",
      "Day            124494 non-null int8\n",
      "Device0        124494 non-null category\n",
      "Device1        124494 non-null category\n",
      "Device2        124494 non-null category\n",
      "Device3        124494 non-null int8\n",
      "Device4        124494 non-null category\n",
      "Device5        124494 non-null category\n",
      "Device6        124494 non-null category\n",
      "Device7        124494 non-null category\n",
      "Device34       124494 non-null category\n",
      "Device45       124494 non-null category\n",
      "Device56       124494 non-null category\n",
      "Device67       124494 non-null category\n",
      "Device345      124494 non-null category\n",
      "Device456      124494 non-null category\n",
      "Device567      124494 non-null category\n",
      "Device3456     124494 non-null category\n",
      "Device4567     124494 non-null category\n",
      "Device34567    124494 non-null category\n",
      "dtypes: category(17), int32(1), int64(10), int8(3)\n",
      "memory usage: 13.8 MB\n"
     ]
    }
   ],
   "source": [
    "CombinedData = pd.concat([RawData, DateData, DeviceData], axis = 1)\n",
    "CombinedData.info()"
   ]
  },
  {
   "cell_type": "code",
   "execution_count": 19,
   "metadata": {},
   "outputs": [],
   "source": [
    "for column in CombinedData.columns:\n",
    "    if(len(CombinedData[column].unique()) == 1):\n",
    "        CombinedData.drop(column, axis = 1, inplace = True)"
   ]
  },
  {
   "cell_type": "code",
   "execution_count": 20,
   "metadata": {},
   "outputs": [
    {
     "name": "stdout",
     "output_type": "stream",
     "text": [
      "<class 'pandas.core.frame.DataFrame'>\n",
      "RangeIndex: 124494 entries, 0 to 124493\n",
      "Data columns (total 28 columns):\n",
      "failure        124494 non-null int64\n",
      "attribute1     124494 non-null int64\n",
      "attribute2     124494 non-null int64\n",
      "attribute3     124494 non-null int64\n",
      "attribute4     124494 non-null int64\n",
      "attribute5     124494 non-null int64\n",
      "attribute6     124494 non-null int64\n",
      "attribute7     124494 non-null int64\n",
      "attribute8     124494 non-null int64\n",
      "attribute9     124494 non-null int64\n",
      "Month          124494 non-null int8\n",
      "Day            124494 non-null int8\n",
      "Device0        124494 non-null category\n",
      "Device3        124494 non-null int8\n",
      "Device4        124494 non-null category\n",
      "Device5        124494 non-null category\n",
      "Device6        124494 non-null category\n",
      "Device7        124494 non-null category\n",
      "Device34       124494 non-null category\n",
      "Device45       124494 non-null category\n",
      "Device56       124494 non-null category\n",
      "Device67       124494 non-null category\n",
      "Device345      124494 non-null category\n",
      "Device456      124494 non-null category\n",
      "Device567      124494 non-null category\n",
      "Device3456     124494 non-null category\n",
      "Device4567     124494 non-null category\n",
      "Device34567    124494 non-null category\n",
      "dtypes: category(15), int64(10), int8(3)\n",
      "memory usage: 13.0 MB\n"
     ]
    }
   ],
   "source": [
    "CombinedData.info()"
   ]
  },
  {
   "cell_type": "code",
   "execution_count": 21,
   "metadata": {},
   "outputs": [
    {
     "data": {
      "text/plain": [
       "False    124494\n",
       "dtype: int64"
      ]
     },
     "execution_count": 21,
     "metadata": {},
     "output_type": "execute_result"
    }
   ],
   "source": [
    "CombinedData.duplicated().value_counts()"
   ]
  },
  {
   "cell_type": "markdown",
   "metadata": {},
   "source": [
    "## Normalize data"
   ]
  },
  {
   "cell_type": "code",
   "execution_count": 22,
   "metadata": {},
   "outputs": [],
   "source": [
    "import numpy as np"
   ]
  },
  {
   "cell_type": "code",
   "execution_count": 23,
   "metadata": {},
   "outputs": [],
   "source": [
    "def ShowSimpleScatter(DataSeries, width = 5, height = 5):\n",
    "    import matplotlib.pyplot as plotter\n",
    "    %matplotlib inline\n",
    "\n",
    "    plotter.close(\"all\")\n",
    "    axes = plotter.figure(figsize = (width, height)).add_subplot(111)  # RowsColumnsIndex\n",
    "                                                        # Index starts upper left corner\n",
    "    x_data = list(range(len(DataSeries)))\n",
    "    axes.scatter(x_data, DataSeries, s = 1, edgecolors = None)\n",
    "    plotter.show()"
   ]
  },
  {
   "cell_type": "code",
   "execution_count": 24,
   "metadata": {},
   "outputs": [],
   "source": [
    "def ShowSimpleHist(Data_List, width = 7, height = 7):\n",
    "    import matplotlib.pyplot as plt\n",
    "    %matplotlib inline\n",
    "\n",
    "    plt.close()\n",
    "    axes = plt.figure(figsize=(width, height)).add_subplot(111)  # RowsColumnsIndex\n",
    "                                                        # Index starts upper left corner\n",
    "    plt.hist(Data_List)\n",
    "    plt.show()"
   ]
  },
  {
   "cell_type": "code",
   "execution_count": 25,
   "metadata": {
    "scrolled": false
   },
   "outputs": [
    {
     "data": {
      "text/plain": [
       "failure       34.227194\n",
       "attribute1    -0.011115\n",
       "attribute2    23.857923\n",
       "attribute3    82.712278\n",
       "attribute4    41.502611\n",
       "attribute5     3.483680\n",
       "attribute6    -0.375291\n",
       "attribute7    73.476456\n",
       "attribute8    73.476456\n",
       "attribute9    49.899278\n",
       "Month          0.564712\n",
       "Day            0.109559\n",
       "Device3        0.471741\n",
       "dtype: float64"
      ]
     },
     "execution_count": 25,
     "metadata": {},
     "output_type": "execute_result"
    }
   ],
   "source": [
    "CombinedData.skew(axis = 0)"
   ]
  },
  {
   "cell_type": "code",
   "execution_count": 26,
   "metadata": {
    "scrolled": false
   },
   "outputs": [
    {
     "data": {
      "image/png": "[encoded data removed]",
      "text/plain": [
       "<Figure size 720x720 with 16 Axes>"
      ]
     },
     "metadata": {
      "needs_background": "light"
     },
     "output_type": "display_data"
    }
   ],
   "source": [
    "import matplotlib.pyplot as plt\n",
    "%matplotlib inline\n",
    "CombinedData.hist(bins=100, figsize=(10, 10))\n",
    "plt.show()"
   ]
  },
  {
   "cell_type": "code",
   "execution_count": 27,
   "metadata": {},
   "outputs": [
    {
     "name": "stdout",
     "output_type": "stream",
     "text": [
      "<class 'pandas.core.frame.DataFrame'>\n",
      "RangeIndex: 124494 entries, 0 to 124493\n",
      "Data columns (total 28 columns):\n",
      "failure        124494 non-null int64\n",
      "attribute1     124494 non-null int64\n",
      "attribute2     124494 non-null int64\n",
      "attribute3     124494 non-null int64\n",
      "attribute4     124494 non-null int64\n",
      "attribute5     124494 non-null int64\n",
      "attribute6     124494 non-null int64\n",
      "attribute7     124494 non-null int64\n",
      "attribute8     124494 non-null int64\n",
      "attribute9     124494 non-null int64\n",
      "Month          124494 non-null int8\n",
      "Day            124494 non-null int8\n",
      "Device0        124494 non-null category\n",
      "Device3        124494 non-null int8\n",
      "Device4        124494 non-null category\n",
      "Device5        124494 non-null category\n",
      "Device6        124494 non-null category\n",
      "Device7        124494 non-null category\n",
      "Device34       124494 non-null category\n",
      "Device45       124494 non-null category\n",
      "Device56       124494 non-null category\n",
      "Device67       124494 non-null category\n",
      "Device345      124494 non-null category\n",
      "Device456      124494 non-null category\n",
      "Device567      124494 non-null category\n",
      "Device3456     124494 non-null category\n",
      "Device4567     124494 non-null category\n",
      "Device34567    124494 non-null category\n",
      "dtypes: category(15), int64(10), int8(3)\n",
      "memory usage: 13.0 MB\n"
     ]
    }
   ],
   "source": [
    "CombinedData.info()"
   ]
  },
  {
   "cell_type": "code",
   "execution_count": 28,
   "metadata": {
    "scrolled": false
   },
   "outputs": [],
   "source": [
    "# RawData[\"Attribute1(0-1)\"] = RawData[\"attribute1\"] / RawData[\"attribute1\"].max()\n",
    "for number in range(1, 10):\n",
    "    oldColumnLabel = \"attribute\" + str(number)\n",
    "    newColumnLabel = \"Attribute\" + str(number) + \"Rescaled\"\n",
    "    CombinedData[newColumnLabel] = RawData[oldColumnLabel] / RawData[oldColumnLabel].max()"
   ]
  },
  {
   "cell_type": "code",
   "execution_count": 29,
   "metadata": {},
   "outputs": [
    {
     "data": {
      "text/plain": [
       "count    124494.000000\n",
       "mean          2.382961\n",
       "std           0.618827\n",
       "min           0.000000\n",
       "25%           2.079442\n",
       "50%           2.302585\n",
       "75%           2.484907\n",
       "max           4.584967\n",
       "Name: attribute5, dtype: float64"
      ]
     },
     "execution_count": 29,
     "metadata": {},
     "output_type": "execute_result"
    }
   ],
   "source": [
    "(np.log((RawData[\"attribute5\"]))).describe()"
   ]
  },
  {
   "cell_type": "code",
   "execution_count": 30,
   "metadata": {
    "scrolled": false
   },
   "outputs": [
    {
     "data": {
      "image/png": "[encoded data removed]",
      "text/plain": [
       "<Figure size 360x360 with 1 Axes>"
      ]
     },
     "metadata": {
      "needs_background": "light"
     },
     "output_type": "display_data"
    }
   ],
   "source": [
    "ShowSimpleScatter(np.log((RawData[\"attribute5\"])))"
   ]
  },
  {
   "cell_type": "code",
   "execution_count": 31,
   "metadata": {
    "scrolled": false
   },
   "outputs": [
    {
     "data": {
      "image/png": "[encoded data removed]",
      "text/plain": [
       "<Figure size 504x504 with 1 Axes>"
      ]
     },
     "metadata": {
      "needs_background": "light"
     },
     "output_type": "display_data"
    }
   ],
   "source": [
    "ShowSimpleHist(np.log((RawData[\"attribute5\"])))"
   ]
  },
  {
   "cell_type": "code",
   "execution_count": 32,
   "metadata": {},
   "outputs": [],
   "source": [
    "CombinedData[\"log(attribute5)\"] = np.log((RawData[\"attribute5\"]))"
   ]
  },
  {
   "cell_type": "code",
   "execution_count": 33,
   "metadata": {},
   "outputs": [
    {
     "data": {
      "image/png": "[encoded data removed]",
      "text/plain": [
       "<Figure size 1080x1080 with 25 Axes>"
      ]
     },
     "metadata": {
      "needs_background": "light"
     },
     "output_type": "display_data"
    }
   ],
   "source": [
    "CombinedData.hist(bins=100, figsize=(15, 15))\n",
    "plt.show()"
   ]
  },
  {
   "cell_type": "markdown",
   "metadata": {},
   "source": [
    "## Add flags for attributes with massive number of zeroes"
   ]
  },
  {
   "cell_type": "code",
   "execution_count": 34,
   "metadata": {
    "scrolled": true
   },
   "outputs": [],
   "source": [
    "for number in range(1,10):\n",
    "    columnLabel = \"attribute\" + str(number)\n",
    "    CombinedData[\"HasAttribute\" + str(number)] = RawData[columnLabel].apply(lambda x: 0 if (x == 0) else 1)"
   ]
  },
  {
   "cell_type": "code",
   "execution_count": 35,
   "metadata": {},
   "outputs": [
    {
     "data": {
      "text/html": [
       "<div>\n",
       "<style scoped>\n",
       "    .dataframe tbody tr th:only-of-type {\n",
       "        vertical-align: middle;\n",
       "    }\n",
       "\n",
       "    .dataframe tbody tr th {\n",
       "        vertical-align: top;\n",
       "    }\n",
       "\n",
       "    .dataframe thead th {\n",
       "        text-align: right;\n",
       "    }\n",
       "</style>\n",
       "<table border=\"1\" class=\"dataframe\">\n",
       "  <thead>\n",
       "    <tr style=\"text-align: right;\">\n",
       "      <th></th>\n",
       "      <th>failure</th>\n",
       "      <th>attribute1</th>\n",
       "      <th>attribute2</th>\n",
       "      <th>attribute3</th>\n",
       "      <th>attribute4</th>\n",
       "      <th>attribute5</th>\n",
       "      <th>attribute6</th>\n",
       "      <th>attribute7</th>\n",
       "      <th>attribute8</th>\n",
       "      <th>attribute9</th>\n",
       "      <th>...</th>\n",
       "      <th>log(attribute5)</th>\n",
       "      <th>HasAttribute1</th>\n",
       "      <th>HasAttribute2</th>\n",
       "      <th>HasAttribute3</th>\n",
       "      <th>HasAttribute4</th>\n",
       "      <th>HasAttribute5</th>\n",
       "      <th>HasAttribute6</th>\n",
       "      <th>HasAttribute7</th>\n",
       "      <th>HasAttribute8</th>\n",
       "      <th>HasAttribute9</th>\n",
       "    </tr>\n",
       "  </thead>\n",
       "  <tbody>\n",
       "    <tr>\n",
       "      <td>0</td>\n",
       "      <td>0</td>\n",
       "      <td>215630672</td>\n",
       "      <td>56</td>\n",
       "      <td>0</td>\n",
       "      <td>52</td>\n",
       "      <td>6</td>\n",
       "      <td>407438</td>\n",
       "      <td>0</td>\n",
       "      <td>0</td>\n",
       "      <td>7</td>\n",
       "      <td>...</td>\n",
       "      <td>1.791759</td>\n",
       "      <td>1</td>\n",
       "      <td>1</td>\n",
       "      <td>0</td>\n",
       "      <td>1</td>\n",
       "      <td>1</td>\n",
       "      <td>1</td>\n",
       "      <td>0</td>\n",
       "      <td>0</td>\n",
       "      <td>1</td>\n",
       "    </tr>\n",
       "    <tr>\n",
       "      <td>1</td>\n",
       "      <td>0</td>\n",
       "      <td>61370680</td>\n",
       "      <td>0</td>\n",
       "      <td>3</td>\n",
       "      <td>0</td>\n",
       "      <td>6</td>\n",
       "      <td>403174</td>\n",
       "      <td>0</td>\n",
       "      <td>0</td>\n",
       "      <td>0</td>\n",
       "      <td>...</td>\n",
       "      <td>1.791759</td>\n",
       "      <td>1</td>\n",
       "      <td>0</td>\n",
       "      <td>1</td>\n",
       "      <td>0</td>\n",
       "      <td>1</td>\n",
       "      <td>1</td>\n",
       "      <td>0</td>\n",
       "      <td>0</td>\n",
       "      <td>0</td>\n",
       "    </tr>\n",
       "    <tr>\n",
       "      <td>2</td>\n",
       "      <td>0</td>\n",
       "      <td>173295968</td>\n",
       "      <td>0</td>\n",
       "      <td>0</td>\n",
       "      <td>0</td>\n",
       "      <td>12</td>\n",
       "      <td>237394</td>\n",
       "      <td>0</td>\n",
       "      <td>0</td>\n",
       "      <td>0</td>\n",
       "      <td>...</td>\n",
       "      <td>2.484907</td>\n",
       "      <td>1</td>\n",
       "      <td>0</td>\n",
       "      <td>0</td>\n",
       "      <td>0</td>\n",
       "      <td>1</td>\n",
       "      <td>1</td>\n",
       "      <td>0</td>\n",
       "      <td>0</td>\n",
       "      <td>0</td>\n",
       "    </tr>\n",
       "    <tr>\n",
       "      <td>3</td>\n",
       "      <td>0</td>\n",
       "      <td>79694024</td>\n",
       "      <td>0</td>\n",
       "      <td>0</td>\n",
       "      <td>0</td>\n",
       "      <td>6</td>\n",
       "      <td>410186</td>\n",
       "      <td>0</td>\n",
       "      <td>0</td>\n",
       "      <td>0</td>\n",
       "      <td>...</td>\n",
       "      <td>1.791759</td>\n",
       "      <td>1</td>\n",
       "      <td>0</td>\n",
       "      <td>0</td>\n",
       "      <td>0</td>\n",
       "      <td>1</td>\n",
       "      <td>1</td>\n",
       "      <td>0</td>\n",
       "      <td>0</td>\n",
       "      <td>0</td>\n",
       "    </tr>\n",
       "    <tr>\n",
       "      <td>4</td>\n",
       "      <td>0</td>\n",
       "      <td>135970480</td>\n",
       "      <td>0</td>\n",
       "      <td>0</td>\n",
       "      <td>0</td>\n",
       "      <td>15</td>\n",
       "      <td>313173</td>\n",
       "      <td>0</td>\n",
       "      <td>0</td>\n",
       "      <td>3</td>\n",
       "      <td>...</td>\n",
       "      <td>2.708050</td>\n",
       "      <td>1</td>\n",
       "      <td>0</td>\n",
       "      <td>0</td>\n",
       "      <td>0</td>\n",
       "      <td>1</td>\n",
       "      <td>1</td>\n",
       "      <td>0</td>\n",
       "      <td>0</td>\n",
       "      <td>1</td>\n",
       "    </tr>\n",
       "    <tr>\n",
       "      <td>...</td>\n",
       "      <td>...</td>\n",
       "      <td>...</td>\n",
       "      <td>...</td>\n",
       "      <td>...</td>\n",
       "      <td>...</td>\n",
       "      <td>...</td>\n",
       "      <td>...</td>\n",
       "      <td>...</td>\n",
       "      <td>...</td>\n",
       "      <td>...</td>\n",
       "      <td>...</td>\n",
       "      <td>...</td>\n",
       "      <td>...</td>\n",
       "      <td>...</td>\n",
       "      <td>...</td>\n",
       "      <td>...</td>\n",
       "      <td>...</td>\n",
       "      <td>...</td>\n",
       "      <td>...</td>\n",
       "      <td>...</td>\n",
       "      <td>...</td>\n",
       "    </tr>\n",
       "    <tr>\n",
       "      <td>124489</td>\n",
       "      <td>0</td>\n",
       "      <td>18310224</td>\n",
       "      <td>0</td>\n",
       "      <td>0</td>\n",
       "      <td>0</td>\n",
       "      <td>10</td>\n",
       "      <td>353705</td>\n",
       "      <td>8</td>\n",
       "      <td>8</td>\n",
       "      <td>0</td>\n",
       "      <td>...</td>\n",
       "      <td>2.302585</td>\n",
       "      <td>1</td>\n",
       "      <td>0</td>\n",
       "      <td>0</td>\n",
       "      <td>0</td>\n",
       "      <td>1</td>\n",
       "      <td>1</td>\n",
       "      <td>1</td>\n",
       "      <td>1</td>\n",
       "      <td>0</td>\n",
       "    </tr>\n",
       "    <tr>\n",
       "      <td>124490</td>\n",
       "      <td>0</td>\n",
       "      <td>172556680</td>\n",
       "      <td>96</td>\n",
       "      <td>107</td>\n",
       "      <td>4</td>\n",
       "      <td>11</td>\n",
       "      <td>332792</td>\n",
       "      <td>0</td>\n",
       "      <td>0</td>\n",
       "      <td>13</td>\n",
       "      <td>...</td>\n",
       "      <td>2.397895</td>\n",
       "      <td>1</td>\n",
       "      <td>1</td>\n",
       "      <td>1</td>\n",
       "      <td>1</td>\n",
       "      <td>1</td>\n",
       "      <td>1</td>\n",
       "      <td>0</td>\n",
       "      <td>0</td>\n",
       "      <td>1</td>\n",
       "    </tr>\n",
       "    <tr>\n",
       "      <td>124491</td>\n",
       "      <td>0</td>\n",
       "      <td>19029120</td>\n",
       "      <td>4832</td>\n",
       "      <td>0</td>\n",
       "      <td>0</td>\n",
       "      <td>11</td>\n",
       "      <td>350410</td>\n",
       "      <td>0</td>\n",
       "      <td>0</td>\n",
       "      <td>0</td>\n",
       "      <td>...</td>\n",
       "      <td>2.397895</td>\n",
       "      <td>1</td>\n",
       "      <td>1</td>\n",
       "      <td>0</td>\n",
       "      <td>0</td>\n",
       "      <td>1</td>\n",
       "      <td>1</td>\n",
       "      <td>0</td>\n",
       "      <td>0</td>\n",
       "      <td>0</td>\n",
       "    </tr>\n",
       "    <tr>\n",
       "      <td>124492</td>\n",
       "      <td>0</td>\n",
       "      <td>226953408</td>\n",
       "      <td>0</td>\n",
       "      <td>0</td>\n",
       "      <td>0</td>\n",
       "      <td>12</td>\n",
       "      <td>358980</td>\n",
       "      <td>0</td>\n",
       "      <td>0</td>\n",
       "      <td>0</td>\n",
       "      <td>...</td>\n",
       "      <td>2.484907</td>\n",
       "      <td>1</td>\n",
       "      <td>0</td>\n",
       "      <td>0</td>\n",
       "      <td>0</td>\n",
       "      <td>1</td>\n",
       "      <td>1</td>\n",
       "      <td>0</td>\n",
       "      <td>0</td>\n",
       "      <td>0</td>\n",
       "    </tr>\n",
       "    <tr>\n",
       "      <td>124493</td>\n",
       "      <td>0</td>\n",
       "      <td>17572840</td>\n",
       "      <td>0</td>\n",
       "      <td>0</td>\n",
       "      <td>0</td>\n",
       "      <td>10</td>\n",
       "      <td>351431</td>\n",
       "      <td>0</td>\n",
       "      <td>0</td>\n",
       "      <td>0</td>\n",
       "      <td>...</td>\n",
       "      <td>2.302585</td>\n",
       "      <td>1</td>\n",
       "      <td>0</td>\n",
       "      <td>0</td>\n",
       "      <td>0</td>\n",
       "      <td>1</td>\n",
       "      <td>1</td>\n",
       "      <td>0</td>\n",
       "      <td>0</td>\n",
       "      <td>0</td>\n",
       "    </tr>\n",
       "  </tbody>\n",
       "</table>\n",
       "<p>124494 rows × 47 columns</p>\n",
       "</div>"
      ],
      "text/plain": [
       "        failure  attribute1  attribute2  attribute3  attribute4  attribute5  \\\n",
       "0             0   215630672          56           0          52           6   \n",
       "1             0    61370680           0           3           0           6   \n",
       "2             0   173295968           0           0           0          12   \n",
       "3             0    79694024           0           0           0           6   \n",
       "4             0   135970480           0           0           0          15   \n",
       "...         ...         ...         ...         ...         ...         ...   \n",
       "124489        0    18310224           0           0           0          10   \n",
       "124490        0   172556680          96         107           4          11   \n",
       "124491        0    19029120        4832           0           0          11   \n",
       "124492        0   226953408           0           0           0          12   \n",
       "124493        0    17572840           0           0           0          10   \n",
       "\n",
       "        attribute6  attribute7  attribute8  attribute9  ...  log(attribute5)  \\\n",
       "0           407438           0           0           7  ...         1.791759   \n",
       "1           403174           0           0           0  ...         1.791759   \n",
       "2           237394           0           0           0  ...         2.484907   \n",
       "3           410186           0           0           0  ...         1.791759   \n",
       "4           313173           0           0           3  ...         2.708050   \n",
       "...            ...         ...         ...         ...  ...              ...   \n",
       "124489      353705           8           8           0  ...         2.302585   \n",
       "124490      332792           0           0          13  ...         2.397895   \n",
       "124491      350410           0           0           0  ...         2.397895   \n",
       "124492      358980           0           0           0  ...         2.484907   \n",
       "124493      351431           0           0           0  ...         2.302585   \n",
       "\n",
       "        HasAttribute1 HasAttribute2  HasAttribute3 HasAttribute4  \\\n",
       "0                   1             1              0             1   \n",
       "1                   1             0              1             0   \n",
       "2                   1             0              0             0   \n",
       "3                   1             0              0             0   \n",
       "4                   1             0              0             0   \n",
       "...               ...           ...            ...           ...   \n",
       "124489              1             0              0             0   \n",
       "124490              1             1              1             1   \n",
       "124491              1             1              0             0   \n",
       "124492              1             0              0             0   \n",
       "124493              1             0              0             0   \n",
       "\n",
       "       HasAttribute5 HasAttribute6 HasAttribute7 HasAttribute8 HasAttribute9  \n",
       "0                  1             1             0             0             1  \n",
       "1                  1             1             0             0             0  \n",
       "2                  1             1             0             0             0  \n",
       "3                  1             1             0             0             0  \n",
       "4                  1             1             0             0             1  \n",
       "...              ...           ...           ...           ...           ...  \n",
       "124489             1             1             1             1             0  \n",
       "124490             1             1             0             0             1  \n",
       "124491             1             1             0             0             0  \n",
       "124492             1             1             0             0             0  \n",
       "124493             1             1             0             0             0  \n",
       "\n",
       "[124494 rows x 47 columns]"
      ]
     },
     "execution_count": 35,
     "metadata": {},
     "output_type": "execute_result"
    }
   ],
   "source": [
    "CombinedData"
   ]
  },
  {
   "cell_type": "markdown",
   "metadata": {},
   "source": [
    "# Trim outliers"
   ]
  },
  {
   "cell_type": "code",
   "execution_count": 36,
   "metadata": {},
   "outputs": [],
   "source": [
    "# Removing outliers from a DataFrame\n",
    "def OutliersRemoved(DataFrame, ColumnLabel, Sigma = 3):\n",
    "    DataFrame = DataFrame[(DataFrame[ColumnLabel] < (DataFrame[ColumnLabel].mean() + (Sigma * DataFrame[ColumnLabel].std()))) & (DataFrame[ColumnLabel] > (DataFrame[ColumnLabel].mean() - (Sigma * DataFrame[ColumnLabel].std())))]\n",
    "    return DataFrame"
   ]
  },
  {
   "cell_type": "code",
   "execution_count": 37,
   "metadata": {
    "scrolled": true
   },
   "outputs": [
    {
     "name": "stdout",
     "output_type": "stream",
     "text": [
      "<class 'pandas.core.frame.DataFrame'>\n",
      "Int64Index: 121509 entries, 0 to 124493\n",
      "Data columns (total 47 columns):\n",
      "failure               121509 non-null int64\n",
      "attribute1            121509 non-null int64\n",
      "attribute2            121509 non-null int64\n",
      "attribute3            121509 non-null int64\n",
      "attribute4            121509 non-null int64\n",
      "attribute5            121509 non-null int64\n",
      "attribute6            121509 non-null int64\n",
      "attribute7            121509 non-null int64\n",
      "attribute8            121509 non-null int64\n",
      "attribute9            121509 non-null int64\n",
      "Month                 121509 non-null int8\n",
      "Day                   121509 non-null int8\n",
      "Device0               121509 non-null category\n",
      "Device3               121509 non-null int8\n",
      "Device4               121509 non-null category\n",
      "Device5               121509 non-null category\n",
      "Device6               121509 non-null category\n",
      "Device7               121509 non-null category\n",
      "Device34              121509 non-null category\n",
      "Device45              121509 non-null category\n",
      "Device56              121509 non-null category\n",
      "Device67              121509 non-null category\n",
      "Device345             121509 non-null category\n",
      "Device456             121509 non-null category\n",
      "Device567             121509 non-null category\n",
      "Device3456            121509 non-null category\n",
      "Device4567            121509 non-null category\n",
      "Device34567           121509 non-null category\n",
      "Attribute1Rescaled    121509 non-null float64\n",
      "Attribute2Rescaled    121509 non-null float64\n",
      "Attribute3Rescaled    121509 non-null float64\n",
      "Attribute4Rescaled    121509 non-null float64\n",
      "Attribute5Rescaled    121509 non-null float64\n",
      "Attribute6Rescaled    121509 non-null float64\n",
      "Attribute7Rescaled    121509 non-null float64\n",
      "Attribute8Rescaled    121509 non-null float64\n",
      "Attribute9Rescaled    121509 non-null float64\n",
      "log(attribute5)       121509 non-null float64\n",
      "HasAttribute1         121509 non-null int64\n",
      "HasAttribute2         121509 non-null int64\n",
      "HasAttribute3         121509 non-null int64\n",
      "HasAttribute4         121509 non-null int64\n",
      "HasAttribute5         121509 non-null int64\n",
      "HasAttribute6         121509 non-null int64\n",
      "HasAttribute7         121509 non-null int64\n",
      "HasAttribute8         121509 non-null int64\n",
      "HasAttribute9         121509 non-null int64\n",
      "dtypes: category(15), float64(10), int64(19), int8(3)\n",
      "memory usage: 31.3 MB\n"
     ]
    }
   ],
   "source": [
    "TrimmedData = OutliersRemoved(CombinedData, \"log(attribute5)\")\n",
    "TrimmedData.info()"
   ]
  },
  {
   "cell_type": "code",
   "execution_count": 38,
   "metadata": {
    "scrolled": true
   },
   "outputs": [
    {
     "name": "stdout",
     "output_type": "stream",
     "text": [
      "<class 'pandas.core.frame.DataFrame'>\n",
      "Int64Index: 121432 entries, 0 to 124493\n",
      "Data columns (total 47 columns):\n",
      "failure               121432 non-null int64\n",
      "attribute1            121432 non-null int64\n",
      "attribute2            121432 non-null int64\n",
      "attribute3            121432 non-null int64\n",
      "attribute4            121432 non-null int64\n",
      "attribute5            121432 non-null int64\n",
      "attribute6            121432 non-null int64\n",
      "attribute7            121432 non-null int64\n",
      "attribute8            121432 non-null int64\n",
      "attribute9            121432 non-null int64\n",
      "Month                 121432 non-null int8\n",
      "Day                   121432 non-null int8\n",
      "Device0               121432 non-null category\n",
      "Device3               121432 non-null int8\n",
      "Device4               121432 non-null category\n",
      "Device5               121432 non-null category\n",
      "Device6               121432 non-null category\n",
      "Device7               121432 non-null category\n",
      "Device34              121432 non-null category\n",
      "Device45              121432 non-null category\n",
      "Device56              121432 non-null category\n",
      "Device67              121432 non-null category\n",
      "Device345             121432 non-null category\n",
      "Device456             121432 non-null category\n",
      "Device567             121432 non-null category\n",
      "Device3456            121432 non-null category\n",
      "Device4567            121432 non-null category\n",
      "Device34567           121432 non-null category\n",
      "Attribute1Rescaled    121432 non-null float64\n",
      "Attribute2Rescaled    121432 non-null float64\n",
      "Attribute3Rescaled    121432 non-null float64\n",
      "Attribute4Rescaled    121432 non-null float64\n",
      "Attribute5Rescaled    121432 non-null float64\n",
      "Attribute6Rescaled    121432 non-null float64\n",
      "Attribute7Rescaled    121432 non-null float64\n",
      "Attribute8Rescaled    121432 non-null float64\n",
      "Attribute9Rescaled    121432 non-null float64\n",
      "log(attribute5)       121432 non-null float64\n",
      "HasAttribute1         121432 non-null int64\n",
      "HasAttribute2         121432 non-null int64\n",
      "HasAttribute3         121432 non-null int64\n",
      "HasAttribute4         121432 non-null int64\n",
      "HasAttribute5         121432 non-null int64\n",
      "HasAttribute6         121432 non-null int64\n",
      "HasAttribute7         121432 non-null int64\n",
      "HasAttribute8         121432 non-null int64\n",
      "HasAttribute9         121432 non-null int64\n",
      "dtypes: category(15), float64(10), int64(19), int8(3)\n",
      "memory usage: 31.3 MB\n"
     ]
    }
   ],
   "source": [
    "TrimmedData = OutliersRemoved(TrimmedData, \"attribute6\")\n",
    "TrimmedData.info()"
   ]
  },
  {
   "cell_type": "markdown",
   "metadata": {},
   "source": [
    "# Model train and test"
   ]
  },
  {
   "cell_type": "code",
   "execution_count": 39,
   "metadata": {},
   "outputs": [],
   "source": [
    "# Run through multiple classifiers and rank results\n",
    "\n",
    "from sklearn.metrics import accuracy_score, precision_score, recall_score, f1_score\n",
    "from sklearn.model_selection import train_test_split\n",
    "\n",
    "from sklearn.naive_bayes import GaussianNB\n",
    "from sklearn.naive_bayes import BernoulliNB\n",
    "from sklearn.ensemble import GradientBoostingClassifier\n",
    "from sklearn.neighbors import KNeighborsClassifier\n",
    "from sklearn.tree import DecisionTreeClassifier\n",
    "from sklearn.ensemble import RandomForestClassifier\n",
    "\n",
    "def AssessClassifierModels(TrainingDataColumns, TrainingDataResults, TestingDataColumns, TestingDataResults, Algorithms_List):\n",
    "    # results container\n",
    "    results_list = pd.DataFrame( columns = [\"Name\", \"Accuracy\", \"Precision\", \"Recall\", \"F1\"]) # Set index later to avoid empty row\n",
    "    model_list = pd.DataFrame(columns = [\"Name\", \"ModelData\"])\n",
    "    \n",
    "    # calculated metrics and append to list\n",
    "    for algorithm in Algorithms_List:\n",
    "        algorithmObject = algorithm()\n",
    "\n",
    "        algorithmObject.fit(TrainingDataColumns, TrainingDataResults)\n",
    "        \n",
    "        results_list = results_list.append({ \"Name\":  algorithm.__name__,\n",
    "                                             \"Accuracy\":  accuracy_score(TestingDataResults, algorithmObject.predict(TestingDataColumns)),\n",
    "                                             \"Precision\":  precision_score(TestingDataResults, algorithmObject.predict(TestingDataColumns)),\n",
    "                                             \"Recall\":  recall_score(TestingDataResults, algorithmObject.predict(TestingDataColumns)),\n",
    "                                             \"F1\":  f1_score(TestingDataResults, algorithmObject.predict(TestingDataColumns))\n",
    "                                            }, ignore_index = True)\n",
    "        model_list = model_list.append({ \"Name\" : algorithm.__name__,\n",
    "                                         \"ModelData\" : algorithmObject\n",
    "                                       }, ignore_index = True)\n",
    "\n",
    "    # Set index to a meaningful value\n",
    "    results_list.set_index(\"Name\")\n",
    "    return results_list.sort_values(\"F1\", ascending = False), model_list"
   ]
  },
  {
   "cell_type": "code",
   "execution_count": 40,
   "metadata": {},
   "outputs": [],
   "source": [
    "def ShowImportantFeatures(Model, FeatureNamesList, MaxFeatureCount = 10):\n",
    "    printData = pd.DataFrame(columns = [\"Feature\", \"Weight\"])\n",
    "    printData[\"Feature\"] = FeatureNamesList\n",
    "    printData[\"Weight\"] = Model.feature_importances_\n",
    "    printData.sort_values(by=\"Weight\", ascending = False, inplace = True)\n",
    "    \n",
    "    import matplotlib.pyplot as plt\n",
    "    %matplotlib inline\n",
    "\n",
    "    plt.close()\n",
    "    axes = plt.figure(figsize=(10, 10)).add_subplot(111)  # RowsColumnsIndex\n",
    "                                                        # Index starts upper left corner\n",
    "    plt.barh(printData[\"Feature\"].tolist()[:MaxFeatureCount], printData[\"Weight\"].tolist()[:MaxFeatureCount])\n",
    "    plt.gca().invert_yaxis()\n",
    "    plt.show()\n",
    "    \n",
    "    print(printData.head(MaxFeatureCount))"
   ]
  },
  {
   "cell_type": "code",
   "execution_count": 41,
   "metadata": {},
   "outputs": [],
   "source": [
    "def TrainTestDataSet(DataFrame, PredictionColumnLabel):\n",
    "    TrainingData_X_Failures, TestingData_X_Failures, TrainingData_Y_Failures, TestingData_Y_Failures = train_test_split(DataFrame[DataFrame[PredictionColumnLabel] == 0].drop(PredictionColumnLabel, axis = 1), DataFrame.loc[DataFrame[PredictionColumnLabel] == 0, PredictionColumnLabel], test_size = 0.002, random_state = 13)\n",
    "    TrainingData_X_Failures, TestingData_X_Failures, TrainingData_Y_Failures, TestingData_Y_Failures = train_test_split(TestingData_X_Failures, TestingData_Y_Failures, test_size = 0.2, random_state = 13)\n",
    "    TrainingData_X_Successes, TestingData_X_Successes, TrainingData_Y_Successes, TestingData_Y_Successes = train_test_split(DataFrame[DataFrame[PredictionColumnLabel] == 1].drop(PredictionColumnLabel, axis = 1), DataFrame.loc[DataFrame[PredictionColumnLabel] == 1, PredictionColumnLabel], test_size = 0.2, random_state = 13)\n",
    "\n",
    "    TrainingData_X = TrainingData_X_Failures.append(TrainingData_X_Successes)\n",
    "    TrainingData_Y = TrainingData_Y_Failures.append(TrainingData_Y_Successes)\n",
    "\n",
    "    TestingData_X = TestingData_X_Failures.append(TestingData_X_Successes)\n",
    "    TestingData_Y = TestingData_Y_Failures.append(TestingData_Y_Successes)\n",
    "\n",
    "    ModelScores_List, ModelParameters_List = AssessClassifierModels(TrainingData_X, TrainingData_Y, TestingData_X, TestingData_Y, [GaussianNB, BernoulliNB, KNeighborsClassifier, DecisionTreeClassifier, GradientBoostingClassifier])\n",
    "    print(ModelScores_List)\n",
    "\n",
    "    TrainedModel = ModelParameters_List[ModelParameters_List[\"Name\"] == \"GradientBoostingClassifier\"][\"ModelData\"].iloc[0]\n",
    "\n",
    "    ShowImportantFeatures(TrainedModel, TrainingData_X.columns, 20)\n",
    "    \n",
    "    return ModelScores_List, ModelParameters_List"
   ]
  },
  {
   "cell_type": "code",
   "execution_count": 42,
   "metadata": {},
   "outputs": [
    {
     "data": {
      "text/html": [
       "<div>\n",
       "<style scoped>\n",
       "    .dataframe tbody tr th:only-of-type {\n",
       "        vertical-align: middle;\n",
       "    }\n",
       "\n",
       "    .dataframe tbody tr th {\n",
       "        vertical-align: top;\n",
       "    }\n",
       "\n",
       "    .dataframe thead th {\n",
       "        text-align: right;\n",
       "    }\n",
       "</style>\n",
       "<table border=\"1\" class=\"dataframe\">\n",
       "  <thead>\n",
       "    <tr style=\"text-align: right;\">\n",
       "      <th></th>\n",
       "      <th>failure</th>\n",
       "      <th>attribute1</th>\n",
       "      <th>attribute2</th>\n",
       "      <th>attribute3</th>\n",
       "      <th>attribute4</th>\n",
       "      <th>attribute5</th>\n",
       "      <th>attribute6</th>\n",
       "      <th>attribute7</th>\n",
       "      <th>attribute8</th>\n",
       "      <th>attribute9</th>\n",
       "      <th>...</th>\n",
       "      <th>Device34567_1Q9BD</th>\n",
       "      <th>Device34567_1R76A</th>\n",
       "      <th>Device34567_1RE71</th>\n",
       "      <th>Device34567_1RJFA</th>\n",
       "      <th>Device34567_1VMZB</th>\n",
       "      <th>Device34567_1VQFY</th>\n",
       "      <th>Device34567_1ZVME</th>\n",
       "      <th>Device34567_26YZB</th>\n",
       "      <th>Device34567_282ZV</th>\n",
       "      <th>Device34567_2PBHX</th>\n",
       "    </tr>\n",
       "  </thead>\n",
       "  <tbody>\n",
       "    <tr>\n",
       "      <td>0</td>\n",
       "      <td>0</td>\n",
       "      <td>215630672</td>\n",
       "      <td>56</td>\n",
       "      <td>0</td>\n",
       "      <td>52</td>\n",
       "      <td>6</td>\n",
       "      <td>407438</td>\n",
       "      <td>0</td>\n",
       "      <td>0</td>\n",
       "      <td>7</td>\n",
       "      <td>...</td>\n",
       "      <td>0</td>\n",
       "      <td>0</td>\n",
       "      <td>0</td>\n",
       "      <td>0</td>\n",
       "      <td>0</td>\n",
       "      <td>0</td>\n",
       "      <td>0</td>\n",
       "      <td>0</td>\n",
       "      <td>0</td>\n",
       "      <td>0</td>\n",
       "    </tr>\n",
       "    <tr>\n",
       "      <td>1</td>\n",
       "      <td>0</td>\n",
       "      <td>61370680</td>\n",
       "      <td>0</td>\n",
       "      <td>3</td>\n",
       "      <td>0</td>\n",
       "      <td>6</td>\n",
       "      <td>403174</td>\n",
       "      <td>0</td>\n",
       "      <td>0</td>\n",
       "      <td>0</td>\n",
       "      <td>...</td>\n",
       "      <td>0</td>\n",
       "      <td>0</td>\n",
       "      <td>0</td>\n",
       "      <td>0</td>\n",
       "      <td>0</td>\n",
       "      <td>0</td>\n",
       "      <td>0</td>\n",
       "      <td>0</td>\n",
       "      <td>0</td>\n",
       "      <td>0</td>\n",
       "    </tr>\n",
       "    <tr>\n",
       "      <td>2</td>\n",
       "      <td>0</td>\n",
       "      <td>173295968</td>\n",
       "      <td>0</td>\n",
       "      <td>0</td>\n",
       "      <td>0</td>\n",
       "      <td>12</td>\n",
       "      <td>237394</td>\n",
       "      <td>0</td>\n",
       "      <td>0</td>\n",
       "      <td>0</td>\n",
       "      <td>...</td>\n",
       "      <td>0</td>\n",
       "      <td>0</td>\n",
       "      <td>0</td>\n",
       "      <td>0</td>\n",
       "      <td>0</td>\n",
       "      <td>0</td>\n",
       "      <td>0</td>\n",
       "      <td>0</td>\n",
       "      <td>0</td>\n",
       "      <td>0</td>\n",
       "    </tr>\n",
       "    <tr>\n",
       "      <td>3</td>\n",
       "      <td>0</td>\n",
       "      <td>79694024</td>\n",
       "      <td>0</td>\n",
       "      <td>0</td>\n",
       "      <td>0</td>\n",
       "      <td>6</td>\n",
       "      <td>410186</td>\n",
       "      <td>0</td>\n",
       "      <td>0</td>\n",
       "      <td>0</td>\n",
       "      <td>...</td>\n",
       "      <td>0</td>\n",
       "      <td>0</td>\n",
       "      <td>0</td>\n",
       "      <td>0</td>\n",
       "      <td>0</td>\n",
       "      <td>0</td>\n",
       "      <td>0</td>\n",
       "      <td>0</td>\n",
       "      <td>0</td>\n",
       "      <td>0</td>\n",
       "    </tr>\n",
       "    <tr>\n",
       "      <td>4</td>\n",
       "      <td>0</td>\n",
       "      <td>135970480</td>\n",
       "      <td>0</td>\n",
       "      <td>0</td>\n",
       "      <td>0</td>\n",
       "      <td>15</td>\n",
       "      <td>313173</td>\n",
       "      <td>0</td>\n",
       "      <td>0</td>\n",
       "      <td>3</td>\n",
       "      <td>...</td>\n",
       "      <td>0</td>\n",
       "      <td>0</td>\n",
       "      <td>0</td>\n",
       "      <td>0</td>\n",
       "      <td>0</td>\n",
       "      <td>0</td>\n",
       "      <td>0</td>\n",
       "      <td>0</td>\n",
       "      <td>0</td>\n",
       "      <td>0</td>\n",
       "    </tr>\n",
       "    <tr>\n",
       "      <td>...</td>\n",
       "      <td>...</td>\n",
       "      <td>...</td>\n",
       "      <td>...</td>\n",
       "      <td>...</td>\n",
       "      <td>...</td>\n",
       "      <td>...</td>\n",
       "      <td>...</td>\n",
       "      <td>...</td>\n",
       "      <td>...</td>\n",
       "      <td>...</td>\n",
       "      <td>...</td>\n",
       "      <td>...</td>\n",
       "      <td>...</td>\n",
       "      <td>...</td>\n",
       "      <td>...</td>\n",
       "      <td>...</td>\n",
       "      <td>...</td>\n",
       "      <td>...</td>\n",
       "      <td>...</td>\n",
       "      <td>...</td>\n",
       "      <td>...</td>\n",
       "    </tr>\n",
       "    <tr>\n",
       "      <td>124489</td>\n",
       "      <td>0</td>\n",
       "      <td>18310224</td>\n",
       "      <td>0</td>\n",
       "      <td>0</td>\n",
       "      <td>0</td>\n",
       "      <td>10</td>\n",
       "      <td>353705</td>\n",
       "      <td>8</td>\n",
       "      <td>8</td>\n",
       "      <td>0</td>\n",
       "      <td>...</td>\n",
       "      <td>0</td>\n",
       "      <td>0</td>\n",
       "      <td>0</td>\n",
       "      <td>0</td>\n",
       "      <td>0</td>\n",
       "      <td>0</td>\n",
       "      <td>0</td>\n",
       "      <td>0</td>\n",
       "      <td>0</td>\n",
       "      <td>0</td>\n",
       "    </tr>\n",
       "    <tr>\n",
       "      <td>124490</td>\n",
       "      <td>0</td>\n",
       "      <td>172556680</td>\n",
       "      <td>96</td>\n",
       "      <td>107</td>\n",
       "      <td>4</td>\n",
       "      <td>11</td>\n",
       "      <td>332792</td>\n",
       "      <td>0</td>\n",
       "      <td>0</td>\n",
       "      <td>13</td>\n",
       "      <td>...</td>\n",
       "      <td>0</td>\n",
       "      <td>0</td>\n",
       "      <td>0</td>\n",
       "      <td>0</td>\n",
       "      <td>0</td>\n",
       "      <td>0</td>\n",
       "      <td>0</td>\n",
       "      <td>0</td>\n",
       "      <td>0</td>\n",
       "      <td>0</td>\n",
       "    </tr>\n",
       "    <tr>\n",
       "      <td>124491</td>\n",
       "      <td>0</td>\n",
       "      <td>19029120</td>\n",
       "      <td>4832</td>\n",
       "      <td>0</td>\n",
       "      <td>0</td>\n",
       "      <td>11</td>\n",
       "      <td>350410</td>\n",
       "      <td>0</td>\n",
       "      <td>0</td>\n",
       "      <td>0</td>\n",
       "      <td>...</td>\n",
       "      <td>0</td>\n",
       "      <td>0</td>\n",
       "      <td>0</td>\n",
       "      <td>0</td>\n",
       "      <td>0</td>\n",
       "      <td>0</td>\n",
       "      <td>0</td>\n",
       "      <td>0</td>\n",
       "      <td>0</td>\n",
       "      <td>0</td>\n",
       "    </tr>\n",
       "    <tr>\n",
       "      <td>124492</td>\n",
       "      <td>0</td>\n",
       "      <td>226953408</td>\n",
       "      <td>0</td>\n",
       "      <td>0</td>\n",
       "      <td>0</td>\n",
       "      <td>12</td>\n",
       "      <td>358980</td>\n",
       "      <td>0</td>\n",
       "      <td>0</td>\n",
       "      <td>0</td>\n",
       "      <td>...</td>\n",
       "      <td>0</td>\n",
       "      <td>0</td>\n",
       "      <td>0</td>\n",
       "      <td>0</td>\n",
       "      <td>0</td>\n",
       "      <td>0</td>\n",
       "      <td>0</td>\n",
       "      <td>0</td>\n",
       "      <td>0</td>\n",
       "      <td>0</td>\n",
       "    </tr>\n",
       "    <tr>\n",
       "      <td>124493</td>\n",
       "      <td>0</td>\n",
       "      <td>17572840</td>\n",
       "      <td>0</td>\n",
       "      <td>0</td>\n",
       "      <td>0</td>\n",
       "      <td>10</td>\n",
       "      <td>351431</td>\n",
       "      <td>0</td>\n",
       "      <td>0</td>\n",
       "      <td>0</td>\n",
       "      <td>...</td>\n",
       "      <td>0</td>\n",
       "      <td>0</td>\n",
       "      <td>0</td>\n",
       "      <td>0</td>\n",
       "      <td>0</td>\n",
       "      <td>0</td>\n",
       "      <td>0</td>\n",
       "      <td>0</td>\n",
       "      <td>0</td>\n",
       "      <td>0</td>\n",
       "    </tr>\n",
       "  </tbody>\n",
       "</table>\n",
       "<p>121432 rows × 8379 columns</p>\n",
       "</div>"
      ],
      "text/plain": [
       "        failure  attribute1  attribute2  attribute3  attribute4  attribute5  \\\n",
       "0             0   215630672          56           0          52           6   \n",
       "1             0    61370680           0           3           0           6   \n",
       "2             0   173295968           0           0           0          12   \n",
       "3             0    79694024           0           0           0           6   \n",
       "4             0   135970480           0           0           0          15   \n",
       "...         ...         ...         ...         ...         ...         ...   \n",
       "124489        0    18310224           0           0           0          10   \n",
       "124490        0   172556680          96         107           4          11   \n",
       "124491        0    19029120        4832           0           0          11   \n",
       "124492        0   226953408           0           0           0          12   \n",
       "124493        0    17572840           0           0           0          10   \n",
       "\n",
       "        attribute6  attribute7  attribute8  attribute9  ...  \\\n",
       "0           407438           0           0           7  ...   \n",
       "1           403174           0           0           0  ...   \n",
       "2           237394           0           0           0  ...   \n",
       "3           410186           0           0           0  ...   \n",
       "4           313173           0           0           3  ...   \n",
       "...            ...         ...         ...         ...  ...   \n",
       "124489      353705           8           8           0  ...   \n",
       "124490      332792           0           0          13  ...   \n",
       "124491      350410           0           0           0  ...   \n",
       "124492      358980           0           0           0  ...   \n",
       "124493      351431           0           0           0  ...   \n",
       "\n",
       "        Device34567_1Q9BD  Device34567_1R76A  Device34567_1RE71  \\\n",
       "0                       0                  0                  0   \n",
       "1                       0                  0                  0   \n",
       "2                       0                  0                  0   \n",
       "3                       0                  0                  0   \n",
       "4                       0                  0                  0   \n",
       "...                   ...                ...                ...   \n",
       "124489                  0                  0                  0   \n",
       "124490                  0                  0                  0   \n",
       "124491                  0                  0                  0   \n",
       "124492                  0                  0                  0   \n",
       "124493                  0                  0                  0   \n",
       "\n",
       "        Device34567_1RJFA  Device34567_1VMZB  Device34567_1VQFY  \\\n",
       "0                       0                  0                  0   \n",
       "1                       0                  0                  0   \n",
       "2                       0                  0                  0   \n",
       "3                       0                  0                  0   \n",
       "4                       0                  0                  0   \n",
       "...                   ...                ...                ...   \n",
       "124489                  0                  0                  0   \n",
       "124490                  0                  0                  0   \n",
       "124491                  0                  0                  0   \n",
       "124492                  0                  0                  0   \n",
       "124493                  0                  0                  0   \n",
       "\n",
       "        Device34567_1ZVME  Device34567_26YZB  Device34567_282ZV  \\\n",
       "0                       0                  0                  0   \n",
       "1                       0                  0                  0   \n",
       "2                       0                  0                  0   \n",
       "3                       0                  0                  0   \n",
       "4                       0                  0                  0   \n",
       "...                   ...                ...                ...   \n",
       "124489                  0                  0                  0   \n",
       "124490                  0                  0                  0   \n",
       "124491                  0                  0                  0   \n",
       "124492                  0                  0                  0   \n",
       "124493                  0                  0                  0   \n",
       "\n",
       "        Device34567_2PBHX  \n",
       "0                       0  \n",
       "1                       0  \n",
       "2                       0  \n",
       "3                       0  \n",
       "4                       0  \n",
       "...                   ...  \n",
       "124489                  0  \n",
       "124490                  0  \n",
       "124491                  0  \n",
       "124492                  0  \n",
       "124493                  0  \n",
       "\n",
       "[121432 rows x 8379 columns]"
      ]
     },
     "execution_count": 42,
     "metadata": {},
     "output_type": "execute_result"
    }
   ],
   "source": [
    "TrainingData = pd.get_dummies(TrimmedData, drop_first = True)\n",
    "TrainingData"
   ]
  },
  {
   "cell_type": "code",
   "execution_count": 43,
   "metadata": {},
   "outputs": [
    {
     "data": {
      "text/plain": [
       "0.000851446656063746"
      ]
     },
     "execution_count": 43,
     "metadata": {},
     "output_type": "execute_result"
    }
   ],
   "source": [
    "(RawData[RawData[\"failure\"] == 1][\"failure\"].count()) / RawData[\"failure\"].count()"
   ]
  },
  {
   "cell_type": "code",
   "execution_count": 45,
   "metadata": {},
   "outputs": [
    {
     "name": "stderr",
     "output_type": "stream",
     "text": [
      "C:\\Anaconda3\\lib\\site-packages\\sklearn\\metrics\\classification.py:1437: UndefinedMetricWarning: Precision is ill-defined and being set to 0.0 due to no predicted samples.\n",
      "  'precision', 'predicted', average, warn_for)\n",
      "C:\\Anaconda3\\lib\\site-packages\\sklearn\\metrics\\classification.py:1437: UndefinedMetricWarning: F-score is ill-defined and being set to 0.0 due to no predicted samples.\n",
      "  'precision', 'predicted', average, warn_for)\n"
     ]
    },
    {
     "name": "stdout",
     "output_type": "stream",
     "text": [
      "                         Name  Accuracy  Precision    Recall        F1\n",
      "3      DecisionTreeClassifier  0.857143   0.761905  0.761905  0.761905\n",
      "4  GradientBoostingClassifier  0.842857   0.777778  0.666667  0.717949\n",
      "0                  GaussianNB  0.728571   1.000000  0.095238  0.173913\n",
      "2        KNeighborsClassifier  0.571429   0.200000  0.142857  0.166667\n",
      "1                 BernoulliNB  0.700000   0.000000  0.000000  0.000000\n"
     ]
    },
    {
     "data": {
      "image/png": "[encoded data removed]",
      "text/plain": [
       "<Figure size 720x720 with 1 Axes>"
      ]
     },
     "metadata": {
      "needs_background": "light"
     },
     "output_type": "display_data"
    },
    {
     "name": "stdout",
     "output_type": "stream",
     "text": [
      "                Feature    Weight\n",
      "25        HasAttribute4  0.197576\n",
      "3            attribute4  0.106563\n",
      "13   Attribute2Rescaled  0.081014\n",
      "15   Attribute4Rescaled  0.073220\n",
      "1            attribute2  0.037574\n",
      "137           Device7_9  0.034656\n",
      "7            attribute8  0.033634\n",
      "29        HasAttribute8  0.031283\n",
      "160           Device7_Z  0.025013\n",
      "18   Attribute7Rescaled  0.018985\n",
      "6            attribute7  0.015888\n",
      "12   Attribute1Rescaled  0.014494\n",
      "68            Device5_4  0.014076\n",
      "17   Attribute6Rescaled  0.013737\n",
      "21      log(attribute5)  0.013021\n",
      "23        HasAttribute2  0.010894\n",
      "9                 Month  0.009917\n",
      "19   Attribute8Rescaled  0.009032\n",
      "4            attribute5  0.009018\n",
      "105           Device6_9  0.008292\n"
     ]
    }
   ],
   "source": [
    "ModelScores_List, ModelParameters_List = TrainTestDataSet(TrainingData, \"failure\")"
   ]
  },
  {
   "cell_type": "code",
   "execution_count": null,
   "metadata": {},
   "outputs": [],
   "source": [
    "# TrainingData_X_Failures, TestingData_X_Failures, TrainingData_Y_Failures, TestingData_Y_Failures = train_test_split(TrainingData[TrainingData[\"failure\"] == 0].drop(\"failure\", axis = 1), TrainingData.loc[TrainingData[\"failure\"] == 0, \"failure\"], test_size = 0.002, random_state = 13)\n",
    "# TrainingData_X_Failures, TestingData_X_Failures, TrainingData_Y_Failures, TestingData_Y_Failures = train_test_split(TestingData_X_Failures, TestingData_Y_Failures, test_size = 0.2, random_state = 13)\n",
    "# TrainingData_X_Successes, TestingData_X_Successes, TrainingData_Y_Successes, TestingData_Y_Successes = train_test_split(TrainingData[TrainingData[\"failure\"] == 1].drop(\"failure\", axis = 1), TrainingData.loc[TrainingData[\"failure\"] == 1, \"failure\"], test_size = 0.2, random_state = 13)\n",
    "\n",
    "# TrainingData_X = TrainingData_X_Failures.append(TrainingData_X_Successes)\n",
    "# TrainingData_Y = TrainingData_Y_Failures.append(TrainingData_Y_Successes)\n",
    "\n",
    "# TestingData_X = TestingData_X_Failures.append(TestingData_X_Successes)\n",
    "# TestingData_Y = TestingData_Y_Failures.append(TestingData_Y_Successes)\n",
    "\n",
    "# ModelScores_List, ModelParameters_List = AssessClassifierModels(TrainingData_X, TrainingData_Y, TestingData_X, TestingData_Y, [GaussianNB, BernoulliNB, KNeighborsClassifier, DecisionTreeClassifier, GradientBoostingClassifier])\n",
    "# print(ModelScores_List)"
   ]
  },
  {
   "cell_type": "code",
   "execution_count": null,
   "metadata": {},
   "outputs": [],
   "source": [
    "# TrainedModel = ModelParameters_List[ModelParameters_List[\"Name\"] == \"GradientBoostingClassifier\"][\"ModelData\"].iloc[0]\n",
    "\n",
    "# ShowImportantFeatures(TrainedModel, TrainingData_X.columns, 20)"
   ]
  },
  {
   "cell_type": "markdown",
   "metadata": {},
   "source": [
    "# Generate additional columns"
   ]
  },
  {
   "cell_type": "code",
   "execution_count": 46,
   "metadata": {},
   "outputs": [
    {
     "data": {
      "text/html": [
       "<div>\n",
       "<style scoped>\n",
       "    .dataframe tbody tr th:only-of-type {\n",
       "        vertical-align: middle;\n",
       "    }\n",
       "\n",
       "    .dataframe tbody tr th {\n",
       "        vertical-align: top;\n",
       "    }\n",
       "\n",
       "    .dataframe thead th {\n",
       "        text-align: right;\n",
       "    }\n",
       "</style>\n",
       "<table border=\"1\" class=\"dataframe\">\n",
       "  <thead>\n",
       "    <tr style=\"text-align: right;\">\n",
       "      <th></th>\n",
       "      <th>failure</th>\n",
       "      <th>attribute1</th>\n",
       "      <th>attribute2</th>\n",
       "      <th>attribute3</th>\n",
       "      <th>attribute4</th>\n",
       "      <th>attribute5</th>\n",
       "      <th>attribute6</th>\n",
       "      <th>attribute7</th>\n",
       "      <th>attribute8</th>\n",
       "      <th>attribute9</th>\n",
       "    </tr>\n",
       "  </thead>\n",
       "  <tbody>\n",
       "    <tr>\n",
       "      <td>count</td>\n",
       "      <td>124494.000000</td>\n",
       "      <td>1.244940e+05</td>\n",
       "      <td>124494.000000</td>\n",
       "      <td>124494.000000</td>\n",
       "      <td>124494.000000</td>\n",
       "      <td>124494.000000</td>\n",
       "      <td>124494.000000</td>\n",
       "      <td>124494.000000</td>\n",
       "      <td>124494.000000</td>\n",
       "      <td>124494.000000</td>\n",
       "    </tr>\n",
       "    <tr>\n",
       "      <td>mean</td>\n",
       "      <td>0.000851</td>\n",
       "      <td>1.223868e+08</td>\n",
       "      <td>159.484762</td>\n",
       "      <td>9.940455</td>\n",
       "      <td>1.741120</td>\n",
       "      <td>14.222693</td>\n",
       "      <td>260172.858025</td>\n",
       "      <td>0.292528</td>\n",
       "      <td>0.292528</td>\n",
       "      <td>12.451524</td>\n",
       "    </tr>\n",
       "    <tr>\n",
       "      <td>std</td>\n",
       "      <td>0.029167</td>\n",
       "      <td>7.045960e+07</td>\n",
       "      <td>2179.657730</td>\n",
       "      <td>185.747321</td>\n",
       "      <td>22.908507</td>\n",
       "      <td>15.943021</td>\n",
       "      <td>99151.009852</td>\n",
       "      <td>7.436924</td>\n",
       "      <td>7.436924</td>\n",
       "      <td>191.425623</td>\n",
       "    </tr>\n",
       "    <tr>\n",
       "      <td>min</td>\n",
       "      <td>0.000000</td>\n",
       "      <td>0.000000e+00</td>\n",
       "      <td>0.000000</td>\n",
       "      <td>0.000000</td>\n",
       "      <td>0.000000</td>\n",
       "      <td>1.000000</td>\n",
       "      <td>8.000000</td>\n",
       "      <td>0.000000</td>\n",
       "      <td>0.000000</td>\n",
       "      <td>0.000000</td>\n",
       "    </tr>\n",
       "    <tr>\n",
       "      <td>25%</td>\n",
       "      <td>0.000000</td>\n",
       "      <td>6.127675e+07</td>\n",
       "      <td>0.000000</td>\n",
       "      <td>0.000000</td>\n",
       "      <td>0.000000</td>\n",
       "      <td>8.000000</td>\n",
       "      <td>221452.000000</td>\n",
       "      <td>0.000000</td>\n",
       "      <td>0.000000</td>\n",
       "      <td>0.000000</td>\n",
       "    </tr>\n",
       "    <tr>\n",
       "      <td>50%</td>\n",
       "      <td>0.000000</td>\n",
       "      <td>1.227957e+08</td>\n",
       "      <td>0.000000</td>\n",
       "      <td>0.000000</td>\n",
       "      <td>0.000000</td>\n",
       "      <td>10.000000</td>\n",
       "      <td>249799.500000</td>\n",
       "      <td>0.000000</td>\n",
       "      <td>0.000000</td>\n",
       "      <td>0.000000</td>\n",
       "    </tr>\n",
       "    <tr>\n",
       "      <td>75%</td>\n",
       "      <td>0.000000</td>\n",
       "      <td>1.833084e+08</td>\n",
       "      <td>0.000000</td>\n",
       "      <td>0.000000</td>\n",
       "      <td>0.000000</td>\n",
       "      <td>12.000000</td>\n",
       "      <td>310266.000000</td>\n",
       "      <td>0.000000</td>\n",
       "      <td>0.000000</td>\n",
       "      <td>0.000000</td>\n",
       "    </tr>\n",
       "    <tr>\n",
       "      <td>max</td>\n",
       "      <td>1.000000</td>\n",
       "      <td>2.441405e+08</td>\n",
       "      <td>64968.000000</td>\n",
       "      <td>24929.000000</td>\n",
       "      <td>1666.000000</td>\n",
       "      <td>98.000000</td>\n",
       "      <td>689161.000000</td>\n",
       "      <td>832.000000</td>\n",
       "      <td>832.000000</td>\n",
       "      <td>18701.000000</td>\n",
       "    </tr>\n",
       "  </tbody>\n",
       "</table>\n",
       "</div>"
      ],
      "text/plain": [
       "             failure    attribute1     attribute2     attribute3  \\\n",
       "count  124494.000000  1.244940e+05  124494.000000  124494.000000   \n",
       "mean        0.000851  1.223868e+08     159.484762       9.940455   \n",
       "std         0.029167  7.045960e+07    2179.657730     185.747321   \n",
       "min         0.000000  0.000000e+00       0.000000       0.000000   \n",
       "25%         0.000000  6.127675e+07       0.000000       0.000000   \n",
       "50%         0.000000  1.227957e+08       0.000000       0.000000   \n",
       "75%         0.000000  1.833084e+08       0.000000       0.000000   \n",
       "max         1.000000  2.441405e+08   64968.000000   24929.000000   \n",
       "\n",
       "          attribute4     attribute5     attribute6     attribute7  \\\n",
       "count  124494.000000  124494.000000  124494.000000  124494.000000   \n",
       "mean        1.741120      14.222693  260172.858025       0.292528   \n",
       "std        22.908507      15.943021   99151.009852       7.436924   \n",
       "min         0.000000       1.000000       8.000000       0.000000   \n",
       "25%         0.000000       8.000000  221452.000000       0.000000   \n",
       "50%         0.000000      10.000000  249799.500000       0.000000   \n",
       "75%         0.000000      12.000000  310266.000000       0.000000   \n",
       "max      1666.000000      98.000000  689161.000000     832.000000   \n",
       "\n",
       "          attribute8     attribute9  \n",
       "count  124494.000000  124494.000000  \n",
       "mean        0.292528      12.451524  \n",
       "std         7.436924     191.425623  \n",
       "min         0.000000       0.000000  \n",
       "25%         0.000000       0.000000  \n",
       "50%         0.000000       0.000000  \n",
       "75%         0.000000       0.000000  \n",
       "max       832.000000   18701.000000  "
      ]
     },
     "execution_count": 46,
     "metadata": {},
     "output_type": "execute_result"
    }
   ],
   "source": [
    "RawData.describe()"
   ]
  },
  {
   "cell_type": "code",
   "execution_count": 47,
   "metadata": {
    "scrolled": false
   },
   "outputs": [
    {
     "data": {
      "text/plain": [
       "Index(['failure', 'attribute1', 'attribute2', 'attribute3', 'attribute4',\n",
       "       'attribute5', 'attribute6', 'attribute7', 'attribute8', 'attribute9'],\n",
       "      dtype='object')"
      ]
     },
     "execution_count": 47,
     "metadata": {},
     "output_type": "execute_result"
    }
   ],
   "source": [
    "RawData.columns"
   ]
  },
  {
   "cell_type": "code",
   "execution_count": 53,
   "metadata": {
    "scrolled": false
   },
   "outputs": [
    {
     "data": {
      "image/png": "[encoded data removed]",
      "text/plain": [
       "<Figure size 1080x1080 with 30 Axes>"
      ]
     },
     "metadata": {
      "needs_background": "light"
     },
     "output_type": "display_data"
    }
   ],
   "source": [
    "CombinedData[CombinedData.drop([\"failure\", \"Month\", \"Day\"], axis = 1).select_dtypes(exclude=[\"object\", \"category\"]).columns].hist(bins=100, figsize=(15, 15))\n",
    "plt.show()"
   ]
  },
  {
   "cell_type": "code",
   "execution_count": 55,
   "metadata": {},
   "outputs": [
    {
     "data": {
      "image/png": "[encoded data removed]",
      "text/plain": [
       "<Figure size 1080x1080 with 12 Axes>"
      ]
     },
     "metadata": {
      "needs_background": "light"
     },
     "output_type": "display_data"
    }
   ],
   "source": [
    "ExpandedData = pd.DataFrame()\n",
    "\n",
    "for column1 in [\"Attribute1Rescaled\", \"Attribute6Rescaled\", \"log(attribute5)\"]:\n",
    "    for column2 in [\"Attribute1Rescaled\", \"Attribute6Rescaled\", \"log(attribute5)\"]:\n",
    "        if(column1 != column2):\n",
    "            newColumnLabel = str(column1) + \"+\" + str(column2)\n",
    "            ExpandedData[newColumnLabel] = CombinedData[column1] + CombinedData[column2]\n",
    "\n",
    "            newColumnLabel = str(column1) + \"*\" + str(column2)\n",
    "            ExpandedData[newColumnLabel] = CombinedData[column1] * CombinedData[column2]\n",
    "\n",
    "ExpandedData.hist(bins = 100, figsize=(15, 15))\n",
    "plt.show()"
   ]
  },
  {
   "cell_type": "code",
   "execution_count": 64,
   "metadata": {},
   "outputs": [
    {
     "name": "stdout",
     "output_type": "stream",
     "text": [
      "<class 'pandas.core.frame.DataFrame'>\n",
      "RangeIndex: 124494 entries, 0 to 124493\n",
      "Columns: 8391 entries, failure to Device34567_2PBHX\n",
      "dtypes: float64(22), int64(19), int8(3), uint8(8347)\n",
      "memory usage: 1.0 GB\n"
     ]
    }
   ],
   "source": [
    "ExpandedTrainingData = pd.get_dummies(pd.concat([CombinedData, ExpandedData], axis = 1), drop_first = True)\n",
    "ExpandedTrainingData.info()"
   ]
  },
  {
   "cell_type": "code",
   "execution_count": 65,
   "metadata": {},
   "outputs": [
    {
     "name": "stderr",
     "output_type": "stream",
     "text": [
      "C:\\Anaconda3\\lib\\site-packages\\sklearn\\metrics\\classification.py:1437: UndefinedMetricWarning: Precision is ill-defined and being set to 0.0 due to no predicted samples.\n",
      "  'precision', 'predicted', average, warn_for)\n",
      "C:\\Anaconda3\\lib\\site-packages\\sklearn\\metrics\\classification.py:1437: UndefinedMetricWarning: F-score is ill-defined and being set to 0.0 due to no predicted samples.\n",
      "  'precision', 'predicted', average, warn_for)\n"
     ]
    },
    {
     "name": "stdout",
     "output_type": "stream",
     "text": [
      "                         Name  Accuracy  Precision    Recall        F1\n",
      "4  GradientBoostingClassifier  0.791667   0.705882  0.545455  0.615385\n",
      "3      DecisionTreeClassifier  0.750000   0.600000  0.545455  0.571429\n",
      "0                  GaussianNB  0.736111   1.000000  0.136364  0.240000\n",
      "2        KNeighborsClassifier  0.625000   0.307692  0.181818  0.228571\n",
      "1                 BernoulliNB  0.694444   0.000000  0.000000  0.000000\n"
     ]
    },
    {
     "data": {
      "image/png": "[encoded data removed]",
      "text/plain": [
       "<Figure size 720x720 with 1 Axes>"
      ]
     },
     "metadata": {
      "needs_background": "light"
     },
     "output_type": "display_data"
    },
    {
     "name": "stdout",
     "output_type": "stream",
     "text": [
      "                                   Feature    Weight\n",
      "15                      Attribute4Rescaled  0.160867\n",
      "25                           HasAttribute4  0.100034\n",
      "3                               attribute4  0.080432\n",
      "7                               attribute8  0.045183\n",
      "1                               attribute2  0.037167\n",
      "13                      Attribute2Rescaled  0.032001\n",
      "23                           HasAttribute2  0.029461\n",
      "9                                    Month  0.028288\n",
      "18                      Attribute7Rescaled  0.027689\n",
      "6                               attribute7  0.025868\n",
      "80                               Device5_4  0.021602\n",
      "19                      Attribute8Rescaled  0.017689\n",
      "130                              Device6_N  0.016119\n",
      "193                            Device34_0M  0.014908\n",
      "96                               Device5_L  0.013338\n",
      "29                           HasAttribute8  0.011592\n",
      "36   Attribute6Rescaled*Attribute1Rescaled  0.011205\n",
      "5                               attribute6  0.010499\n",
      "31   Attribute1Rescaled+Attribute6Rescaled  0.010476\n",
      "441                            Device45_CV  0.008570\n"
     ]
    }
   ],
   "source": [
    "ModelScores_List, ModelParameters_List = TrainTestDataSet(ExpandedTrainingData, \"failure\")"
   ]
  },
  {
   "cell_type": "code",
   "execution_count": 66,
   "metadata": {},
   "outputs": [
    {
     "name": "stdout",
     "output_type": "stream",
     "text": [
      "<class 'pandas.core.frame.DataFrame'>\n",
      "RangeIndex: 124494 entries, 0 to 124493\n",
      "Data columns (total 21 columns):\n",
      "Attribute4Rescaled                       124494 non-null float64\n",
      "HasAttribute4                            124494 non-null int64\n",
      "attribute4                               124494 non-null int64\n",
      "attribute8                               124494 non-null int64\n",
      "attribute2                               124494 non-null int64\n",
      "Attribute2Rescaled                       124494 non-null float64\n",
      "HasAttribute2                            124494 non-null int64\n",
      "Month                                    124494 non-null int8\n",
      "Attribute7Rescaled                       124494 non-null float64\n",
      "attribute7                               124494 non-null int64\n",
      "Device5_4                                124494 non-null uint8\n",
      "Attribute8Rescaled                       124494 non-null float64\n",
      "Device6_N                                124494 non-null uint8\n",
      "Device34_0M                              124494 non-null uint8\n",
      "Device5_L                                124494 non-null uint8\n",
      "HasAttribute8                            124494 non-null int64\n",
      "Attribute6Rescaled*Attribute1Rescaled    124494 non-null float64\n",
      "attribute6                               124494 non-null int64\n",
      "Attribute1Rescaled+Attribute6Rescaled    124494 non-null float64\n",
      "Device45_CV                              124494 non-null uint8\n",
      "failure                                  124494 non-null int64\n",
      "dtypes: float64(6), int64(9), int8(1), uint8(5)\n",
      "memory usage: 15.0 MB\n"
     ]
    }
   ],
   "source": [
    "FilteredTrainingData = pd.concat([\n",
    "    ExpandedTrainingData[\n",
    "        pd.DataFrame({\n",
    "            \"Features\" : ExpandedTrainingData.drop(\"failure\", axis = 1).columns.to_list(),\n",
    "            \"Weights\" : ModelParameters_List.loc[ModelParameters_List[\"Name\"] == \"GradientBoostingClassifier\", \"ModelData\"].to_list()[0].feature_importances_\n",
    "        }).sort_values(by=\"Weights\", ascending = False).iloc[0:20][\"Features\"].to_list()\n",
    "    ], ExpandedTrainingData[\"failure\"]\n",
    "], axis = 1)\n",
    "\n",
    "FilteredTrainingData.info()"
   ]
  },
  {
   "cell_type": "code",
   "execution_count": 67,
   "metadata": {},
   "outputs": [
    {
     "name": "stdout",
     "output_type": "stream",
     "text": [
      "                         Name  Accuracy  Precision    Recall        F1\n",
      "1                 BernoulliNB  0.819444   0.695652  0.727273  0.711111\n",
      "4  GradientBoostingClassifier  0.819444   0.736842  0.636364  0.682927\n",
      "3      DecisionTreeClassifier  0.722222   0.555556  0.454545  0.500000\n",
      "0                  GaussianNB  0.791667   1.000000  0.318182  0.482759\n",
      "2        KNeighborsClassifier  0.750000   0.833333  0.227273  0.357143\n"
     ]
    },
    {
     "data": {
      "image/png": "[encoded data removed]",
      "text/plain": [
       "<Figure size 720x720 with 1 Axes>"
      ]
     },
     "metadata": {
      "needs_background": "light"
     },
     "output_type": "display_data"
    },
    {
     "name": "stdout",
     "output_type": "stream",
     "text": [
      "                                  Feature    Weight\n",
      "0                      Attribute4Rescaled  0.162015\n",
      "1                           HasAttribute4  0.155266\n",
      "17                             attribute6  0.092847\n",
      "5                      Attribute2Rescaled  0.058609\n",
      "18  Attribute1Rescaled+Attribute6Rescaled  0.056013\n",
      "2                              attribute4  0.055135\n",
      "7                                   Month  0.053690\n",
      "16  Attribute6Rescaled*Attribute1Rescaled  0.050144\n",
      "9                              attribute7  0.050035\n",
      "13                            Device34_0M  0.037901\n",
      "3                              attribute8  0.029508\n",
      "6                           HasAttribute2  0.028249\n",
      "8                      Attribute7Rescaled  0.025964\n",
      "10                              Device5_4  0.025013\n",
      "12                              Device6_N  0.023536\n",
      "4                              attribute2  0.022974\n",
      "14                              Device5_L  0.021426\n",
      "19                            Device45_CV  0.020531\n",
      "15                          HasAttribute8  0.016849\n",
      "11                     Attribute8Rescaled  0.014293\n"
     ]
    }
   ],
   "source": [
    "TrainTestDataSet(FilteredTrainingData, \"failure\");"
   ]
  },
  {
   "cell_type": "code",
   "execution_count": 68,
   "metadata": {},
   "outputs": [
    {
     "name": "stdout",
     "output_type": "stream",
     "text": [
      "                         Name  Accuracy  Precision    Recall        F1\n",
      "4  GradientBoostingClassifier  0.847222   0.789474  0.681818  0.731707\n",
      "1                 BernoulliNB  0.833333   0.812500  0.590909  0.684211\n",
      "3      DecisionTreeClassifier  0.736111   0.588235  0.454545  0.512821\n",
      "0                  GaussianNB  0.791667   1.000000  0.318182  0.482759\n",
      "2        KNeighborsClassifier  0.750000   0.833333  0.227273  0.357143\n"
     ]
    },
    {
     "data": {
      "image/png": "[encoded data removed]",
      "text/plain": [
       "<Figure size 720x720 with 1 Axes>"
      ]
     },
     "metadata": {
      "needs_background": "light"
     },
     "output_type": "display_data"
    },
    {
     "name": "stdout",
     "output_type": "stream",
     "text": [
      "                                  Feature    Weight\n",
      "0                           HasAttribute4  0.341419\n",
      "15                             attribute6  0.092870\n",
      "5                                   Month  0.058440\n",
      "16  Attribute1Rescaled+Attribute6Rescaled  0.055374\n",
      "14  Attribute6Rescaled*Attribute1Rescaled  0.054608\n",
      "4                           HasAttribute2  0.046223\n",
      "2                              attribute2  0.043440\n",
      "1                              attribute8  0.042789\n",
      "11                            Device34_0M  0.039654\n",
      "6                      Attribute7Rescaled  0.034245\n",
      "7                              attribute7  0.030667\n",
      "3                      Attribute2Rescaled  0.028730\n",
      "10                              Device6_N  0.028576\n",
      "17                            Device45_CV  0.025357\n",
      "8                               Device5_4  0.024834\n",
      "13                          HasAttribute8  0.020672\n",
      "12                              Device5_L  0.018345\n",
      "9                      Attribute8Rescaled  0.013758\n"
     ]
    }
   ],
   "source": [
    "TrainTestDataSet(FilteredTrainingData.drop([\"attribute4\", \"Attribute4Rescaled\"], axis = 1), \"failure\");"
   ]
  },
  {
   "cell_type": "code",
   "execution_count": null,
   "metadata": {},
   "outputs": [],
   "source": []
  }
 ],
 "metadata": {
  "kernelspec": {
   "display_name": "Python 3",
   "language": "python",
   "name": "python3"
  },
  "language_info": {
   "codemirror_mode": {
    "name": "ipython",
    "version": 3
   },
   "file_extension": ".py",
   "mimetype": "text/x-python",
   "name": "python",
   "nbconvert_exporter": "python",
   "pygments_lexer": "ipython3",
   "version": "3.7.4"
  }
 },
 "nbformat": 4,
 "nbformat_minor": 2
}
